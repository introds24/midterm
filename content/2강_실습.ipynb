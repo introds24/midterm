{
 "cells": [
  {
   "cell_type": "markdown",
   "metadata": {
    "id": "vXbLsBwWslXf",
    "slideshow": {
     "slide_type": "slide"
    }
   },
   "source": [
    "# 2장. 파이썬 소개\n",
    "\n",
    "컴퓨팅 응용: 데이터사이언스의 기초"
   ]
  },
  {
   "cell_type": "markdown",
   "metadata": {
    "id": "ATFFSahaeVRX",
    "slideshow": {
     "slide_type": "slide"
    }
   },
   "source": [
    "# 파이썬 문법 기초"
   ]
  },
  {
   "cell_type": "markdown",
   "metadata": {
    "id": "heXrt74yeVRX",
    "slideshow": {
     "slide_type": "slide"
    }
   },
   "source": [
    "# 들여쓰기"
   ]
  },
  {
   "cell_type": "markdown",
   "metadata": {
    "id": "Q1TCTpYieVRX",
    "slideshow": {
     "slide_type": "slide"
    }
   },
   "source": [
    "- 탭키로 들여쓰기 (4칸 띄어쓰기)\n",
    "- 정해진 곳에서만 들여쓰기 가능 (ex. `for`, `if`, `def` 등)"
   ]
  },
  {
   "cell_type": "code",
   "execution_count": null,
   "metadata": {
    "id": "moIhv7TMeVRX",
    "outputId": "3785f274-8bd8-4743-deee-c4bed00935af",
    "scrolled": false,
    "slideshow": {
     "slide_type": "subslide"
    }
   },
   "outputs": [
    {
     "ename": "IndentationError",
     "evalue": "unexpected indent (247528105.py, line 2)",
     "output_type": "error",
     "traceback": [
      "\u001b[0;36m  Cell \u001b[0;32mIn[1], line 2\u001b[0;36m\u001b[0m\n\u001b[0;31m    \"들여쓰기 해도 될까?\" # 이 부분에서 오류\u001b[0m\n\u001b[0m    ^\u001b[0m\n\u001b[0;31mIndentationError\u001b[0m\u001b[0;31m:\u001b[0m unexpected indent\n"
     ]
    }
   ],
   "source": [
    "\"들여쓰기 실험\"\n",
    " \"들여쓰기 해도 될까?\" # 이 부분에서 오류"
   ]
  },
  {
   "cell_type": "code",
   "execution_count": null,
   "metadata": {
    "id": "U13pwTAweVRX",
    "outputId": "955983c6-336c-4c5c-bd5b-713cc74196d6",
    "slideshow": {
     "slide_type": "subslide"
    }
   },
   "outputs": [
    {
     "name": "stdout",
     "output_type": "stream",
     "text": [
      "0\n",
      "1\n",
      "2\n",
      "3\n",
      "4\n",
      "5\n",
      "6\n",
      "7\n",
      "8\n",
      "9\n"
     ]
    }
   ],
   "source": [
    "for i in range(10):\n",
    "    print(i) # 이 부분에서 오류"
   ]
  },
  {
   "cell_type": "markdown",
   "metadata": {
    "id": "VOc3cyxQZfwu",
    "slideshow": {
     "slide_type": "slide"
    }
   },
   "source": [
    "# 주석(comment)"
   ]
  },
  {
   "cell_type": "markdown",
   "metadata": {
    "executionInfo": {
     "elapsed": 310,
     "status": "error",
     "timestamp": 1693906544916,
     "user": {
      "displayName": "­김당찬 / 학생 / 통계학과",
      "userId": "10984925773876423229"
     },
     "user_tz": -540
    },
    "id": "g5OmyJn0Zfwv",
    "outputId": "fde25f47-106d-4c35-fe71-d9ba4df4cf9a",
    "slideshow": {
     "slide_type": "slide"
    }
   },
   "source": [
    "- 해시 기호(`#`)를 사용하면 주석처리가 되어 실행되지 않는다.\n",
    "- 주로 코드의 설명이나, 임시로 코드를 실행시키지 않을 때 사용한다."
   ]
  },
  {
   "cell_type": "code",
   "execution_count": 2,
   "metadata": {
    "executionInfo": {
     "elapsed": 3,
     "status": "ok",
     "timestamp": 1693906546595,
     "user": {
      "displayName": "­김당찬 / 학생 / 통계학과",
      "userId": "10984925773876423229"
     },
     "user_tz": -540
    },
    "id": "QDBV1tkfhH75",
    "outputId": "2ec7f8e6-bf28-49f8-b7bc-b6c82929ffff",
    "slideshow": {
     "slide_type": "subslide"
    }
   },
   "outputs": [],
   "source": [
    "# 주석은 이렇게 작성하세요\n",
    "# <ctrl> + </> : 선택한 줄 혹은 영역 주석 처리\n",
    "\n",
    "# print('Hello')"
   ]
  },
  {
   "cell_type": "markdown",
   "metadata": {
    "id": "KMxvQrN3eVRZ",
    "slideshow": {
     "slide_type": "slide"
    }
   },
   "source": [
    "# 속성과 메소드(Attribute & Method)"
   ]
  },
  {
   "cell_type": "markdown",
   "metadata": {
    "id": "Apu1lPUQeVRZ",
    "slideshow": {
     "slide_type": "slide"
    }
   },
   "source": [
    "- 속성(Attribute): 클래스 내부에 정의된 변수 (객체 내부의 또 다른 객체)\n",
    "- 메소드(Method): 클래스 내부에 정의된 함수 (객체 자체나 속성을 변경할 수 있는 함수)"
   ]
  },
  {
   "cell_type": "markdown",
   "metadata": {
    "id": "ajVYIijYeVRZ",
    "slideshow": {
     "slide_type": "slide"
    }
   },
   "source": [
    "속성과 메소드에 접근하기 위해서는 `.`을 사용한다.\n",
    "(ex. 텍스트 데이터를 다루는 `str` 클래스의 `upper()` 메소드)"
   ]
  },
  {
   "cell_type": "code",
   "execution_count": 3,
   "metadata": {
    "id": "qDv7A3hGeVRZ",
    "outputId": "fbd1d5cb-e85d-4d2b-f56c-8f72560a4177",
    "slideshow": {
     "slide_type": "subslide"
    }
   },
   "outputs": [
    {
     "data": {
      "text/plain": [
       "'TEXT'"
      ]
     },
     "execution_count": 3,
     "metadata": {},
     "output_type": "execute_result"
    }
   ],
   "source": [
    "'text'.upper()"
   ]
  },
  {
   "cell_type": "code",
   "execution_count": 5,
   "metadata": {
    "id": "jxx7XEgdeVRZ",
    "outputId": "8f0a4a65-009f-4ac8-ef1a-77871d23a5d3",
    "slideshow": {
     "slide_type": "subslide"
    }
   },
   "outputs": [
    {
     "data": {
      "text/plain": [
       "'2.2.0'"
      ]
     },
     "execution_count": 5,
     "metadata": {},
     "output_type": "execute_result"
    }
   ],
   "source": [
    "import pandas as pd\n",
    "pd.__version__"
   ]
  },
  {
   "cell_type": "markdown",
   "metadata": {
    "id": "NXwvvWdYzaDG",
    "slideshow": {
     "slide_type": "slide"
    }
   },
   "source": [
    "# 사칙 연산 및 기본적인 계산"
   ]
  },
  {
   "cell_type": "code",
   "execution_count": null,
   "metadata": {
    "colab": {
     "base_uri": "https://localhost:8080/"
    },
    "executionInfo": {
     "elapsed": 499,
     "status": "ok",
     "timestamp": 1693906548995,
     "user": {
      "displayName": "­김당찬 / 학생 / 통계학과",
      "userId": "10984925773876423229"
     },
     "user_tz": -540
    },
    "id": "_RGtF4yraUOT",
    "outputId": "fe3aadac-fd47-47d1-e748-aa87b3345b06",
    "slideshow": {
     "slide_type": "subslide"
    }
   },
   "outputs": [
    {
     "data": {
      "text/plain": [
       "2"
      ]
     },
     "execution_count": 8,
     "metadata": {},
     "output_type": "execute_result"
    }
   ],
   "source": [
    "1+1"
   ]
  },
  {
   "cell_type": "code",
   "execution_count": null,
   "metadata": {
    "id": "-aDvGSroaZiW",
    "slideshow": {
     "slide_type": "subslide"
    }
   },
   "outputs": [],
   "source": [
    "1+4"
   ]
  },
  {
   "cell_type": "code",
   "execution_count": null,
   "metadata": {
    "colab": {
     "base_uri": "https://localhost:8080/"
    },
    "executionInfo": {
     "elapsed": 330,
     "status": "ok",
     "timestamp": 1693906549319,
     "user": {
      "displayName": "­김당찬 / 학생 / 통계학과",
      "userId": "10984925773876423229"
     },
     "user_tz": -540
    },
    "id": "noGVySa1attX",
    "outputId": "449ba2d3-e3b6-42a8-9146-dac5ba66b05c",
    "slideshow": {
     "slide_type": "subslide"
    }
   },
   "outputs": [
    {
     "data": {
      "text/plain": [
       "10"
      ]
     },
     "execution_count": 9,
     "metadata": {},
     "output_type": "execute_result"
    }
   ],
   "source": [
    "(2+3)*2"
   ]
  },
  {
   "cell_type": "code",
   "execution_count": null,
   "metadata": {
    "colab": {
     "base_uri": "https://localhost:8080/",
     "height": 140
    },
    "executionInfo": {
     "elapsed": 2,
     "status": "error",
     "timestamp": 1693906550174,
     "user": {
      "displayName": "­김당찬 / 학생 / 통계학과",
      "userId": "10984925773876423229"
     },
     "user_tz": -540
    },
    "id": "pL2jePAravJs",
    "outputId": "d4f12899-d09d-4a24-c97d-3d92423fb8aa",
    "slideshow": {
     "slide_type": "subslide"
    }
   },
   "outputs": [
    {
     "ename": "SyntaxError",
     "evalue": "invalid syntax (3109697733.py, line 1)",
     "output_type": "error",
     "traceback": [
      "\u001b[0;36m  Cell \u001b[0;32mIn[10], line 1\u001b[0;36m\u001b[0m\n\u001b[0;31m    1+*2\u001b[0m\n\u001b[0m      ^\u001b[0m\n\u001b[0;31mSyntaxError\u001b[0m\u001b[0;31m:\u001b[0m invalid syntax\n"
     ]
    }
   ],
   "source": [
    "1+*2"
   ]
  },
  {
   "cell_type": "code",
   "execution_count": 6,
   "metadata": {
    "id": "KF0Lrvl_awQo",
    "slideshow": {
     "slide_type": "subslide"
    }
   },
   "outputs": [
    {
     "data": {
      "text/plain": [
       "2"
      ]
     },
     "execution_count": 6,
     "metadata": {},
     "output_type": "execute_result"
    }
   ],
   "source": [
    "1+1"
   ]
  },
  {
   "cell_type": "code",
   "execution_count": null,
   "metadata": {
    "id": "-i0HZZJ6axrR",
    "slideshow": {
     "slide_type": "subslide"
    }
   },
   "outputs": [],
   "source": [
    "1-11"
   ]
  },
  {
   "cell_type": "code",
   "execution_count": null,
   "metadata": {
    "id": "nX07-6UkayTF",
    "slideshow": {
     "slide_type": "subslide"
    }
   },
   "outputs": [],
   "source": [
    "3*3"
   ]
  },
  {
   "cell_type": "code",
   "execution_count": null,
   "metadata": {
    "id": "dojVE3jbK_RV",
    "slideshow": {
     "slide_type": "subslide"
    }
   },
   "outputs": [],
   "source": [
    "2-1"
   ]
  },
  {
   "cell_type": "code",
   "execution_count": 8,
   "metadata": {
    "colab": {
     "base_uri": "https://localhost:8080/"
    },
    "executionInfo": {
     "elapsed": 2,
     "status": "ok",
     "timestamp": 1693906553684,
     "user": {
      "displayName": "­김당찬 / 학생 / 통계학과",
      "userId": "10984925773876423229"
     },
     "user_tz": -540
    },
    "id": "Viyvh1X4ay4X",
    "outputId": "a7e89131-e5d6-4c9f-a729-77c745ae939f",
    "slideshow": {
     "slide_type": "subslide"
    }
   },
   "outputs": [
    {
     "data": {
      "text/plain": [
       "0.2"
      ]
     },
     "execution_count": 8,
     "metadata": {},
     "output_type": "execute_result"
    }
   ],
   "source": [
    "round(0.24, 1)"
   ]
  },
  {
   "cell_type": "code",
   "execution_count": 9,
   "metadata": {
    "id": "Avc7KRSBaza4",
    "slideshow": {
     "slide_type": "subslide"
    }
   },
   "outputs": [
    {
     "data": {
      "text/plain": [
       "34.0"
      ]
     },
     "execution_count": 9,
     "metadata": {},
     "output_type": "execute_result"
    }
   ],
   "source": [
    "102/3"
   ]
  },
  {
   "cell_type": "markdown",
   "metadata": {
    "id": "QvCYsWU-slXl",
    "slideshow": {
     "slide_type": "slide"
    }
   },
   "source": [
    "### e 표기법"
   ]
  },
  {
   "cell_type": "code",
   "execution_count": null,
   "metadata": {
    "colab": {
     "base_uri": "https://localhost:8080/"
    },
    "executionInfo": {
     "elapsed": 351,
     "status": "ok",
     "timestamp": 1693906570355,
     "user": {
      "displayName": "­김당찬 / 학생 / 통계학과",
      "userId": "10984925773876423229"
     },
     "user_tz": -540
    },
    "id": "MloDWG_sslXl",
    "outputId": "4bf5db2f-d30a-4613-e012-a682666597ce",
    "slideshow": {
     "slide_type": "subslide"
    }
   },
   "outputs": [
    {
     "data": {
      "text/plain": [
       "0.01"
      ]
     },
     "execution_count": 14,
     "metadata": {},
     "output_type": "execute_result"
    }
   ],
   "source": [
    "1e-2"
   ]
  },
  {
   "cell_type": "markdown",
   "metadata": {
    "id": "6Q1YnHM7zj2v",
    "slideshow": {
     "slide_type": "slide"
    }
   },
   "source": [
    "# 몫, 나머지, 제곱"
   ]
  },
  {
   "cell_type": "code",
   "execution_count": 10,
   "metadata": {
    "colab": {
     "base_uri": "https://localhost:8080/"
    },
    "executionInfo": {
     "elapsed": 8,
     "status": "ok",
     "timestamp": 1693906571623,
     "user": {
      "displayName": "­김당찬 / 학생 / 통계학과",
      "userId": "10984925773876423229"
     },
     "user_tz": -540
    },
    "id": "w-qDCeZ7Lspk",
    "outputId": "9f919c42-8e09-44d5-f68e-83a5346a94fb",
    "slideshow": {
     "slide_type": "subslide"
    }
   },
   "outputs": [
    {
     "data": {
      "text/plain": [
       "11629"
      ]
     },
     "execution_count": 10,
     "metadata": {},
     "output_type": "execute_result"
    }
   ],
   "source": [
    "143576742354//12345653"
   ]
  },
  {
   "cell_type": "code",
   "execution_count": 14,
   "metadata": {
    "id": "8QhwRybta0jc",
    "scrolled": true,
    "slideshow": {
     "slide_type": "subslide"
    }
   },
   "outputs": [
    {
     "name": "stdout",
     "output_type": "stream",
     "text": [
      "2\n",
      "1\n"
     ]
    }
   ],
   "source": [
    "5%2\n",
    "\n",
    "d, m = divmod(5,2)\n",
    "print(d)\n",
    "print(m)"
   ]
  },
  {
   "cell_type": "code",
   "execution_count": 15,
   "metadata": {
    "colab": {
     "base_uri": "https://localhost:8080/"
    },
    "executionInfo": {
     "elapsed": 8,
     "status": "ok",
     "timestamp": 1693906572903,
     "user": {
      "displayName": "­김당찬 / 학생 / 통계학과",
      "userId": "10984925773876423229"
     },
     "user_tz": -540
    },
    "id": "NpvGYnG-a1kA",
    "outputId": "76b52b27-5d0f-407d-91a5-c8d363a1c9de",
    "slideshow": {
     "slide_type": "subslide"
    }
   },
   "outputs": [
    {
     "data": {
      "text/plain": [
       "625"
      ]
     },
     "execution_count": 15,
     "metadata": {},
     "output_type": "execute_result"
    }
   ],
   "source": [
    "5**2**2"
   ]
  },
  {
   "cell_type": "code",
   "execution_count": 16,
   "metadata": {
    "id": "rX9OhTtGL68z",
    "slideshow": {
     "slide_type": "subslide"
    }
   },
   "outputs": [
    {
     "data": {
      "text/plain": [
       "9765625"
      ]
     },
     "execution_count": 16,
     "metadata": {},
     "output_type": "execute_result"
    }
   ],
   "source": [
    "5**10"
   ]
  },
  {
   "cell_type": "markdown",
   "metadata": {
    "id": "hLyVLbBIzn7n",
    "slideshow": {
     "slide_type": "slide"
    }
   },
   "source": [
    "# 논리연산자"
   ]
  },
  {
   "cell_type": "markdown",
   "metadata": {
    "id": "oipiJWcUeVRb",
    "slideshow": {
     "slide_type": "slide"
    }
   },
   "source": [
    "- 0, 1은 각각 False, True에 대응"
   ]
  },
  {
   "cell_type": "code",
   "execution_count": 20,
   "metadata": {
    "id": "PjGvntW4eVRb",
    "outputId": "0f0b6745-65e7-49e2-ac3f-22c723c2c354",
    "slideshow": {
     "slide_type": "subslide"
    }
   },
   "outputs": [
    {
     "data": {
      "text/plain": [
       "True"
      ]
     },
     "execution_count": 20,
     "metadata": {},
     "output_type": "execute_result"
    }
   ],
   "source": [
    "bool('asd')"
   ]
  },
  {
   "cell_type": "code",
   "execution_count": 22,
   "metadata": {
    "id": "fPzvlVw6eVRb",
    "outputId": "c875e992-d0e1-40e1-af0f-0d505ef47cc7",
    "slideshow": {
     "slide_type": "subslide"
    }
   },
   "outputs": [
    {
     "data": {
      "text/plain": [
       "0"
      ]
     },
     "execution_count": 22,
     "metadata": {},
     "output_type": "execute_result"
    }
   ],
   "source": [
    "int(False)"
   ]
  },
  {
   "cell_type": "code",
   "execution_count": 23,
   "metadata": {
    "colab": {
     "base_uri": "https://localhost:8080/"
    },
    "executionInfo": {
     "elapsed": 7,
     "status": "ok",
     "timestamp": 1693906573774,
     "user": {
      "displayName": "­김당찬 / 학생 / 통계학과",
      "userId": "10984925773876423229"
     },
     "user_tz": -540
    },
    "id": "J1GUl2AuZfw7",
    "outputId": "2e211560-3152-4625-bb76-41b0cbe5c854",
    "slideshow": {
     "slide_type": "subslide"
    }
   },
   "outputs": [
    {
     "data": {
      "text/plain": [
       "False"
      ]
     },
     "execution_count": 23,
     "metadata": {},
     "output_type": "execute_result"
    }
   ],
   "source": [
    "var = 1\n",
    "\n",
    "3==4"
   ]
  },
  {
   "cell_type": "code",
   "execution_count": 24,
   "metadata": {
    "colab": {
     "base_uri": "https://localhost:8080/"
    },
    "executionInfo": {
     "elapsed": 7,
     "status": "ok",
     "timestamp": 1693906573775,
     "user": {
      "displayName": "­김당찬 / 학생 / 통계학과",
      "userId": "10984925773876423229"
     },
     "user_tz": -540
    },
    "id": "HgfiHEpabAOT",
    "outputId": "0e6c1018-6184-4e61-a85b-efdd0138cecc",
    "slideshow": {
     "slide_type": "subslide"
    }
   },
   "outputs": [
    {
     "data": {
      "text/plain": [
       "True"
      ]
     },
     "execution_count": 24,
     "metadata": {},
     "output_type": "execute_result"
    }
   ],
   "source": [
    "4!=5"
   ]
  },
  {
   "cell_type": "code",
   "execution_count": null,
   "metadata": {
    "colab": {
     "base_uri": "https://localhost:8080/"
    },
    "executionInfo": {
     "elapsed": 6,
     "status": "ok",
     "timestamp": 1693906574223,
     "user": {
      "displayName": "­김당찬 / 학생 / 통계학과",
      "userId": "10984925773876423229"
     },
     "user_tz": -540
    },
    "id": "boQ0j25KbBfQ",
    "outputId": "9a6e8940-921c-4a6d-ea7b-131d6fd3feb8",
    "slideshow": {
     "slide_type": "subslide"
    }
   },
   "outputs": [
    {
     "data": {
      "text/plain": [
       "0"
      ]
     },
     "execution_count": 23,
     "metadata": {},
     "output_type": "execute_result"
    }
   ],
   "source": [
    "(1>2) + (2>3)"
   ]
  },
  {
   "cell_type": "code",
   "execution_count": 25,
   "metadata": {
    "colab": {
     "base_uri": "https://localhost:8080/"
    },
    "executionInfo": {
     "elapsed": 5,
     "status": "ok",
     "timestamp": 1693906574223,
     "user": {
      "displayName": "­김당찬 / 학생 / 통계학과",
      "userId": "10984925773876423229"
     },
     "user_tz": -540
    },
    "id": "nhutTxh8MjFF",
    "outputId": "3b145057-32da-4be8-cd2a-c8a0df76ccbd",
    "slideshow": {
     "slide_type": "subslide"
    }
   },
   "outputs": [
    {
     "data": {
      "text/plain": [
       "1"
      ]
     },
     "execution_count": 25,
     "metadata": {},
     "output_type": "execute_result"
    }
   ],
   "source": [
    "(3>2) + (5<4)"
   ]
  },
  {
   "cell_type": "code",
   "execution_count": 26,
   "metadata": {
    "id": "twPlHf-_bEUv",
    "slideshow": {
     "slide_type": "subslide"
    }
   },
   "outputs": [
    {
     "data": {
      "text/plain": [
       "0"
      ]
     },
     "execution_count": 26,
     "metadata": {},
     "output_type": "execute_result"
    }
   ],
   "source": [
    "(1>2) * (2>3)"
   ]
  },
  {
   "cell_type": "code",
   "execution_count": 27,
   "metadata": {
    "id": "BjOnCizObK0t",
    "slideshow": {
     "slide_type": "subslide"
    }
   },
   "outputs": [
    {
     "data": {
      "text/plain": [
       "1"
      ]
     },
     "execution_count": 27,
     "metadata": {},
     "output_type": "execute_result"
    }
   ],
   "source": [
    "(2>1) * (3>2)"
   ]
  },
  {
   "cell_type": "code",
   "execution_count": 28,
   "metadata": {
    "id": "DSYkWsH3NAis",
    "slideshow": {
     "slide_type": "subslide"
    }
   },
   "outputs": [
    {
     "data": {
      "text/plain": [
       "True"
      ]
     },
     "execution_count": 28,
     "metadata": {},
     "output_type": "execute_result"
    }
   ],
   "source": [
    "(1>2)== 0"
   ]
  },
  {
   "cell_type": "code",
   "execution_count": 29,
   "metadata": {
    "colab": {
     "base_uri": "https://localhost:8080/"
    },
    "executionInfo": {
     "elapsed": 12,
     "status": "ok",
     "timestamp": 1693906575139,
     "user": {
      "displayName": "­김당찬 / 학생 / 통계학과",
      "userId": "10984925773876423229"
     },
     "user_tz": -540
    },
    "id": "CxHUY83ObOjv",
    "outputId": "8e994626-9c7c-455e-ec40-43b0165393e1",
    "slideshow": {
     "slide_type": "subslide"
    }
   },
   "outputs": [
    {
     "data": {
      "text/plain": [
       "0"
      ]
     },
     "execution_count": 29,
     "metadata": {},
     "output_type": "execute_result"
    }
   ],
   "source": [
    "(3>2)*(2>3)"
   ]
  },
  {
   "cell_type": "code",
   "execution_count": 30,
   "metadata": {
    "colab": {
     "base_uri": "https://localhost:8080/"
    },
    "executionInfo": {
     "elapsed": 8,
     "status": "ok",
     "timestamp": 1693906575139,
     "user": {
      "displayName": "­김당찬 / 학생 / 통계학과",
      "userId": "10984925773876423229"
     },
     "user_tz": -540
    },
    "id": "Q3hQHWa_bRrb",
    "outputId": "f399962d-cbe8-4bc9-f73c-b74c24b0ac19",
    "scrolled": true,
    "slideshow": {
     "slide_type": "subslide"
    }
   },
   "outputs": [
    {
     "data": {
      "text/plain": [
       "False"
      ]
     },
     "execution_count": 30,
     "metadata": {},
     "output_type": "execute_result"
    }
   ],
   "source": [
    "(3>2) and (2>3) # &"
   ]
  },
  {
   "cell_type": "code",
   "execution_count": null,
   "metadata": {
    "id": "989mF9KGeVRd",
    "outputId": "3feb722d-11dc-4146-9251-bbee96325888",
    "slideshow": {
     "slide_type": "subslide"
    }
   },
   "outputs": [
    {
     "data": {
      "text/plain": [
       "3"
      ]
     },
     "execution_count": 27,
     "metadata": {},
     "output_type": "execute_result"
    }
   ],
   "source": [
    "2 and 3 # 앞이 참이면 뒤 출력 "
   ]
  },
  {
   "cell_type": "code",
   "execution_count": 31,
   "metadata": {
    "colab": {
     "base_uri": "https://localhost:8080/"
    },
    "executionInfo": {
     "elapsed": 8,
     "status": "ok",
     "timestamp": 1693906575503,
     "user": {
      "displayName": "­김당찬 / 학생 / 통계학과",
      "userId": "10984925773876423229"
     },
     "user_tz": -540
    },
    "id": "9dTZ_qgfbVNs",
    "outputId": "d4d9ce22-b6a7-4159-87a3-f50327242ca3",
    "slideshow": {
     "slide_type": "subslide"
    }
   },
   "outputs": [
    {
     "data": {
      "text/plain": [
       "True"
      ]
     },
     "execution_count": 31,
     "metadata": {},
     "output_type": "execute_result"
    }
   ],
   "source": [
    "(3>2) or (2>3) # |"
   ]
  },
  {
   "cell_type": "code",
   "execution_count": 2,
   "metadata": {
    "id": "Pxy6KLTGeVRd",
    "outputId": "c620c31a-0fce-4026-e94a-962e9d2e75df",
    "slideshow": {
     "slide_type": "subslide"
    }
   },
   "outputs": [
    {
     "name": "stdout",
     "output_type": "stream",
     "text": [
      "2\n",
      "3\n"
     ]
    }
   ],
   "source": [
    "print(2 or 3) # 앞이 거짓이면 뒤 출력\n",
    "print(False or 3)"
   ]
  },
  {
   "cell_type": "code",
   "execution_count": 32,
   "metadata": {
    "colab": {
     "base_uri": "https://localhost:8080/"
    },
    "executionInfo": {
     "elapsed": 7,
     "status": "ok",
     "timestamp": 1693906575503,
     "user": {
      "displayName": "­김당찬 / 학생 / 통계학과",
      "userId": "10984925773876423229"
     },
     "user_tz": -540
    },
    "id": "AnzQ-dbwbXo1",
    "outputId": "889a44af-758b-4d58-cadd-1b77014302fd",
    "slideshow": {
     "slide_type": "subslide"
    }
   },
   "outputs": [
    {
     "data": {
      "text/plain": [
       "False"
      ]
     },
     "execution_count": 32,
     "metadata": {},
     "output_type": "execute_result"
    }
   ],
   "source": [
    "not (3>2) # NOT : 논리 부정\n",
    "3<=2"
   ]
  },
  {
   "cell_type": "markdown",
   "metadata": {
    "id": "nAn8UjqbzqOH",
    "slideshow": {
     "slide_type": "slide"
    }
   },
   "source": [
    "# 변수 설정"
   ]
  },
  {
   "cell_type": "code",
   "execution_count": 33,
   "metadata": {
    "id": "OB_XtSKibZKK",
    "slideshow": {
     "slide_type": "subslide"
    }
   },
   "outputs": [],
   "source": [
    "a=100"
   ]
  },
  {
   "cell_type": "code",
   "execution_count": 35,
   "metadata": {
    "colab": {
     "base_uri": "https://localhost:8080/"
    },
    "executionInfo": {
     "elapsed": 11,
     "status": "ok",
     "timestamp": 1693906576569,
     "user": {
      "displayName": "­김당찬 / 학생 / 통계학과",
      "userId": "10984925773876423229"
     },
     "user_tz": -540
    },
    "id": "8SEz1TU2ba92",
    "outputId": "caaaa5ea-2139-4fd7-a2df-e3bc3c0825a1",
    "slideshow": {
     "slide_type": "subslide"
    }
   },
   "outputs": [
    {
     "name": "stdout",
     "output_type": "stream",
     "text": [
      "100\n"
     ]
    }
   ],
   "source": [
    "a\n",
    "print(a)"
   ]
  },
  {
   "cell_type": "code",
   "execution_count": 36,
   "metadata": {
    "id": "F3EenPF-Nqmc",
    "slideshow": {
     "slide_type": "subslide"
    }
   },
   "outputs": [],
   "source": [
    "variable_1=200"
   ]
  },
  {
   "cell_type": "code",
   "execution_count": 37,
   "metadata": {
    "id": "D7GOHhpsN2Bj",
    "scrolled": true,
    "slideshow": {
     "slide_type": "subslide"
    }
   },
   "outputs": [
    {
     "data": {
      "text/plain": [
       "200"
      ]
     },
     "execution_count": 37,
     "metadata": {},
     "output_type": "execute_result"
    }
   ],
   "source": [
    "variable_1"
   ]
  },
  {
   "cell_type": "code",
   "execution_count": 38,
   "metadata": {
    "colab": {
     "base_uri": "https://localhost:8080/",
     "height": 174
    },
    "executionInfo": {
     "elapsed": 455,
     "status": "error",
     "timestamp": 1693906609487,
     "user": {
      "displayName": "­김당찬 / 학생 / 통계학과",
      "userId": "10984925773876423229"
     },
     "user_tz": -540
    },
    "id": "YCzZcqWbZfxB",
    "outputId": "1bee3598-4dc5-42bd-d9ed-3eb589e26287",
    "scrolled": true,
    "slideshow": {
     "slide_type": "subslide"
    }
   },
   "outputs": [
    {
     "ename": "NameError",
     "evalue": "name 'variable_2' is not defined",
     "output_type": "error",
     "traceback": [
      "\u001b[0;31m---------------------------------------------------------------------------\u001b[0m",
      "\u001b[0;31mNameError\u001b[0m                                 Traceback (most recent call last)",
      "Cell \u001b[0;32mIn[38], line 1\u001b[0m\n\u001b[0;32m----> 1\u001b[0m \u001b[43mvariable_2\u001b[49m \u001b[38;5;66;03m# 변수가 정의되지 않았다는 오류가 발생합니다.\u001b[39;00m\n",
      "\u001b[0;31mNameError\u001b[0m: name 'variable_2' is not defined"
     ]
    }
   ],
   "source": [
    "variable_2 # 변수가 정의되지 않았다는 오류가 발생합니다."
   ]
  },
  {
   "cell_type": "code",
   "execution_count": 39,
   "metadata": {
    "id": "GlzFDky0bbjD",
    "slideshow": {
     "slide_type": "subslide"
    }
   },
   "outputs": [],
   "source": [
    "b = 200+300*2"
   ]
  },
  {
   "cell_type": "code",
   "execution_count": 40,
   "metadata": {
    "colab": {
     "base_uri": "https://localhost:8080/"
    },
    "executionInfo": {
     "elapsed": 2,
     "status": "ok",
     "timestamp": 1693906611499,
     "user": {
      "displayName": "­김당찬 / 학생 / 통계학과",
      "userId": "10984925773876423229"
     },
     "user_tz": -540
    },
    "id": "lwT3Nj6lOiiQ",
    "outputId": "6544f0d2-acf6-4168-d122-e8dca87f8a90",
    "slideshow": {
     "slide_type": "subslide"
    }
   },
   "outputs": [
    {
     "data": {
      "text/plain": [
       "800"
      ]
     },
     "execution_count": 40,
     "metadata": {},
     "output_type": "execute_result"
    }
   ],
   "source": [
    "b"
   ]
  },
  {
   "cell_type": "code",
   "execution_count": 41,
   "metadata": {
    "id": "TLzNVbGWOhK9",
    "slideshow": {
     "slide_type": "subslide"
    }
   },
   "outputs": [],
   "source": [
    "a = 200"
   ]
  },
  {
   "cell_type": "code",
   "execution_count": 42,
   "metadata": {
    "id": "s8k0vKkfPE4s",
    "slideshow": {
     "slide_type": "subslide"
    }
   },
   "outputs": [],
   "source": [
    "smith = 'smith'"
   ]
  },
  {
   "cell_type": "code",
   "execution_count": 43,
   "metadata": {
    "id": "lA_m9pEQbfbb",
    "slideshow": {
     "slide_type": "subslide"
    }
   },
   "outputs": [],
   "source": [
    "a = smith"
   ]
  },
  {
   "cell_type": "code",
   "execution_count": 44,
   "metadata": {
    "id": "AfGB9qGabhny",
    "slideshow": {
     "slide_type": "subslide"
    }
   },
   "outputs": [
    {
     "data": {
      "text/plain": [
       "'smith'"
      ]
     },
     "execution_count": 44,
     "metadata": {},
     "output_type": "execute_result"
    }
   ],
   "source": [
    "a"
   ]
  },
  {
   "cell_type": "markdown",
   "metadata": {
    "id": "qt_jTqVJzsgg",
    "slideshow": {
     "slide_type": "slide"
    }
   },
   "source": [
    "# 라이브러리 사용"
   ]
  },
  {
   "cell_type": "code",
   "execution_count": 45,
   "metadata": {
    "id": "wUayDAB6bih7",
    "slideshow": {
     "slide_type": "subslide"
    }
   },
   "outputs": [],
   "source": [
    "import math\n"
   ]
  },
  {
   "cell_type": "code",
   "execution_count": 46,
   "metadata": {
    "colab": {
     "base_uri": "https://localhost:8080/"
    },
    "executionInfo": {
     "elapsed": 2,
     "status": "ok",
     "timestamp": 1693906616040,
     "user": {
      "displayName": "­김당찬 / 학생 / 통계학과",
      "userId": "10984925773876423229"
     },
     "user_tz": -540
    },
    "id": "cdEdLmvhbksy",
    "outputId": "f0a0bd42-41b7-4c7f-d9ec-0662225c03ac",
    "slideshow": {
     "slide_type": "subslide"
    }
   },
   "outputs": [
    {
     "data": {
      "text/plain": [
       "6.123233995736766e-17"
      ]
     },
     "execution_count": 46,
     "metadata": {},
     "output_type": "execute_result"
    }
   ],
   "source": [
    "math.cos(math.pi/2)"
   ]
  },
  {
   "cell_type": "code",
   "execution_count": 47,
   "metadata": {
    "colab": {
     "base_uri": "https://localhost:8080/"
    },
    "executionInfo": {
     "elapsed": 2,
     "status": "ok",
     "timestamp": 1693906616401,
     "user": {
      "displayName": "­김당찬 / 학생 / 통계학과",
      "userId": "10984925773876423229"
     },
     "user_tz": -540
    },
    "id": "merDNVUaQdcy",
    "outputId": "c1b679eb-4370-4842-c2e2-45286c82660b",
    "slideshow": {
     "slide_type": "subslide"
    }
   },
   "outputs": [
    {
     "data": {
      "text/plain": [
       "3.141592653589793"
      ]
     },
     "execution_count": 47,
     "metadata": {},
     "output_type": "execute_result"
    }
   ],
   "source": [
    "math.pi"
   ]
  },
  {
   "cell_type": "code",
   "execution_count": 48,
   "metadata": {
    "colab": {
     "base_uri": "https://localhost:8080/"
    },
    "executionInfo": {
     "elapsed": 4,
     "status": "ok",
     "timestamp": 1693906617211,
     "user": {
      "displayName": "­김당찬 / 학생 / 통계학과",
      "userId": "10984925773876423229"
     },
     "user_tz": -540
    },
    "id": "_7z8lEYZbltR",
    "outputId": "86b6242a-b4c9-451f-f5ca-273ebf0d4d77",
    "slideshow": {
     "slide_type": "subslide"
    }
   },
   "outputs": [
    {
     "data": {
      "text/plain": [
       "1.0"
      ]
     },
     "execution_count": 48,
     "metadata": {},
     "output_type": "execute_result"
    }
   ],
   "source": [
    "math.log(math.e)"
   ]
  },
  {
   "cell_type": "markdown",
   "metadata": {
    "id": "5jCUuYArZfxF",
    "slideshow": {
     "slide_type": "slide"
    }
   },
   "source": [
    "## 특정 모듈의 특정 함수만 사용"
   ]
  },
  {
   "cell_type": "code",
   "execution_count": 49,
   "metadata": {
    "colab": {
     "base_uri": "https://localhost:8080/"
    },
    "executionInfo": {
     "elapsed": 3,
     "status": "ok",
     "timestamp": 1693906618684,
     "user": {
      "displayName": "­김당찬 / 학생 / 통계학과",
      "userId": "10984925773876423229"
     },
     "user_tz": -540
    },
    "id": "nADtkWnLslXu",
    "outputId": "522579cd-e33f-450b-9d59-2a63004c7544",
    "slideshow": {
     "slide_type": "subslide"
    }
   },
   "outputs": [
    {
     "data": {
      "text/plain": [
       "6.123233995736766e-17"
      ]
     },
     "execution_count": 49,
     "metadata": {},
     "output_type": "execute_result"
    }
   ],
   "source": [
    "from math import cos, pi\n",
    "\n",
    "cos(pi/2) # 모듈.함수() 형태로 사용하지 않아도 됩니다."
   ]
  },
  {
   "cell_type": "markdown",
   "metadata": {
    "id": "Oljt-XSOZfxG",
    "slideshow": {
     "slide_type": "slide"
    }
   },
   "source": [
    "## 특정 모듈의 모든 함수 사용\n",
    "- `from module import *`\n",
    "- `module.function()` 대신 `function()`로 사용 가능"
   ]
  },
  {
   "cell_type": "code",
   "execution_count": 51,
   "metadata": {
    "colab": {
     "base_uri": "https://localhost:8080/"
    },
    "executionInfo": {
     "elapsed": 4,
     "status": "ok",
     "timestamp": 1693906619634,
     "user": {
      "displayName": "­김당찬 / 학생 / 통계학과",
      "userId": "10984925773876423229"
     },
     "user_tz": -540
    },
    "id": "I27KotbnslXu",
    "outputId": "19b4975c-d2be-403e-e5be-92b34da8f02a",
    "slideshow": {
     "slide_type": "subslide"
    }
   },
   "outputs": [
    {
     "name": "stdout",
     "output_type": "stream",
     "text": [
      "3.141592653589793\n",
      "-1.0\n"
     ]
    }
   ],
   "source": [
    "from math import *\n",
    "\n",
    "print(pi)\n",
    "print(cos(pi))"
   ]
  },
  {
   "cell_type": "markdown",
   "metadata": {
    "id": "s997KotuZfxG",
    "slideshow": {
     "slide_type": "slide"
    }
   },
   "source": [
    "### 다만, 이렇게 import * 를 사용하는 것은 권장하지 않습니다.\n",
    "- 해당 모듈의 모든 함수를 사용하게 되면, 기존에 정의된 변수들과 충돌할 수 있습니다."
   ]
  },
  {
   "cell_type": "code",
   "execution_count": 52,
   "metadata": {
    "colab": {
     "base_uri": "https://localhost:8080/"
    },
    "executionInfo": {
     "elapsed": 2,
     "status": "ok",
     "timestamp": 1693906620068,
     "user": {
      "displayName": "­김당찬 / 학생 / 통계학과",
      "userId": "10984925773876423229"
     },
     "user_tz": -540
    },
    "id": "7EpDGnhXslXu",
    "outputId": "807e3b1b-e7f2-4c2e-a8dd-3c3b92ac1e9c",
    "slideshow": {
     "slide_type": "subslide"
    }
   },
   "outputs": [
    {
     "name": "stdout",
     "output_type": "stream",
     "text": [
      "3.14\n"
     ]
    }
   ],
   "source": [
    "pi = 3.14\n",
    "\n",
    "print(pi)"
   ]
  },
  {
   "cell_type": "code",
   "execution_count": 53,
   "metadata": {
    "colab": {
     "base_uri": "https://localhost:8080/"
    },
    "executionInfo": {
     "elapsed": 2,
     "status": "ok",
     "timestamp": 1693906620500,
     "user": {
      "displayName": "­김당찬 / 학생 / 통계학과",
      "userId": "10984925773876423229"
     },
     "user_tz": -540
    },
    "id": "2xPRa4ehZfxH",
    "outputId": "76f4a6c1-766b-4eb7-a3c1-1f3b2ba35686",
    "slideshow": {
     "slide_type": "subslide"
    }
   },
   "outputs": [
    {
     "name": "stdout",
     "output_type": "stream",
     "text": [
      "3.141592653589793\n"
     ]
    }
   ],
   "source": [
    "from math import *\n",
    "\n",
    "print(pi)"
   ]
  },
  {
   "cell_type": "markdown",
   "metadata": {
    "id": "v_TwoA3wzxMP",
    "slideshow": {
     "slide_type": "slide"
    }
   },
   "source": [
    "# 리스트"
   ]
  },
  {
   "cell_type": "code",
   "execution_count": 54,
   "metadata": {
    "id": "Fl17cpr-slXu",
    "slideshow": {
     "slide_type": "subslide"
    }
   },
   "outputs": [
    {
     "data": {
      "text/plain": [
       "[1, 2, 3]"
      ]
     },
     "execution_count": 54,
     "metadata": {},
     "output_type": "execute_result"
    }
   ],
   "source": [
    "[1,2,3]"
   ]
  },
  {
   "cell_type": "code",
   "execution_count": 56,
   "metadata": {
    "id": "hLGjaOP4b2gb",
    "slideshow": {
     "slide_type": "subslide"
    }
   },
   "outputs": [
    {
     "data": {
      "text/plain": [
       "list"
      ]
     },
     "execution_count": 56,
     "metadata": {},
     "output_type": "execute_result"
    }
   ],
   "source": [
    "a = [1,2,3]\n",
    "type(a)"
   ]
  },
  {
   "cell_type": "code",
   "execution_count": null,
   "metadata": {
    "id": "T_Kj06xoS4Ch",
    "slideshow": {
     "slide_type": "subslide"
    }
   },
   "outputs": [],
   "source": [
    "a"
   ]
  },
  {
   "cell_type": "code",
   "execution_count": 58,
   "metadata": {
    "id": "6GwfjXQkS6HY",
    "slideshow": {
     "slide_type": "subslide"
    }
   },
   "outputs": [],
   "source": [
    "b = [1,2,'smith']"
   ]
  },
  {
   "cell_type": "code",
   "execution_count": 69,
   "metadata": {
    "colab": {
     "base_uri": "https://localhost:8080/"
    },
    "executionInfo": {
     "elapsed": 9,
     "status": "ok",
     "timestamp": 1693906622807,
     "user": {
      "displayName": "­김당찬 / 학생 / 통계학과",
      "userId": "10984925773876423229"
     },
     "user_tz": -540
    },
    "id": "6RlYRDj3S953",
    "outputId": "fc3e52df-ee16-465f-ac48-76e8299de1ea",
    "slideshow": {
     "slide_type": "subslide"
    }
   },
   "outputs": [
    {
     "name": "stdout",
     "output_type": "stream",
     "text": [
      "[0, 1, 2, 3, 4, 5, 6, 7, 8, 9]\n"
     ]
    },
    {
     "data": {
      "text/plain": [
       "[0, 2, 4, 6, 8]"
      ]
     },
     "execution_count": 69,
     "metadata": {},
     "output_type": "execute_result"
    }
   ],
   "source": [
    "ls = list(range(10))\n",
    "print(ls)\n",
    "\n",
    "ls[0:9:2]"
   ]
  },
  {
   "cell_type": "code",
   "execution_count": null,
   "metadata": {
    "colab": {
     "base_uri": "https://localhost:8080/"
    },
    "executionInfo": {
     "elapsed": 4,
     "status": "ok",
     "timestamp": 1693906623325,
     "user": {
      "displayName": "­김당찬 / 학생 / 통계학과",
      "userId": "10984925773876423229"
     },
     "user_tz": -540
    },
    "id": "WQqEfPCATzRg",
    "outputId": "e057f0b2-c2c8-4681-dd5c-c95554824113",
    "slideshow": {
     "slide_type": "subslide"
    }
   },
   "outputs": [
    {
     "data": {
      "text/plain": [
       "[1]"
      ]
     },
     "execution_count": 50,
     "metadata": {},
     "output_type": "execute_result"
    }
   ],
   "source": [
    "b[0:-2]"
   ]
  },
  {
   "cell_type": "code",
   "execution_count": 70,
   "metadata": {
    "id": "4HAY_3Beb3p8",
    "slideshow": {
     "slide_type": "subslide"
    }
   },
   "outputs": [],
   "source": [
    "a = [1,2,3]\n",
    "b = [4,5,'smith']"
   ]
  },
  {
   "cell_type": "code",
   "execution_count": 71,
   "metadata": {
    "colab": {
     "base_uri": "https://localhost:8080/"
    },
    "executionInfo": {
     "elapsed": 7,
     "status": "ok",
     "timestamp": 1693906623945,
     "user": {
      "displayName": "­김당찬 / 학생 / 통계학과",
      "userId": "10984925773876423229"
     },
     "user_tz": -540
    },
    "id": "ID-Th3S5slXv",
    "outputId": "76004721-d6ab-41f9-b336-b332c1ff655c",
    "slideshow": {
     "slide_type": "subslide"
    }
   },
   "outputs": [
    {
     "data": {
      "text/plain": [
       "True"
      ]
     },
     "execution_count": 71,
     "metadata": {},
     "output_type": "execute_result"
    }
   ],
   "source": [
    "# 리스트의 논리연산자\n",
    "1 in a "
   ]
  },
  {
   "cell_type": "code",
   "execution_count": 72,
   "metadata": {
    "colab": {
     "base_uri": "https://localhost:8080/"
    },
    "executionInfo": {
     "elapsed": 6,
     "status": "ok",
     "timestamp": 1693906623946,
     "user": {
      "displayName": "­김당찬 / 학생 / 통계학과",
      "userId": "10984925773876423229"
     },
     "user_tz": -540
    },
    "id": "Pi_VlWc8slXv",
    "outputId": "2914f284-d977-469b-dfde-a35655cbfbcf",
    "slideshow": {
     "slide_type": "subslide"
    }
   },
   "outputs": [
    {
     "data": {
      "text/plain": [
       "True"
      ]
     },
     "execution_count": 72,
     "metadata": {},
     "output_type": "execute_result"
    }
   ],
   "source": [
    "4 not in a"
   ]
  },
  {
   "cell_type": "code",
   "execution_count": 73,
   "metadata": {
    "id": "X3gui5PReVRh",
    "outputId": "2aa317e6-eb86-4c56-ad6c-a7954e9f9979",
    "slideshow": {
     "slide_type": "subslide"
    }
   },
   "outputs": [
    {
     "name": "stdout",
     "output_type": "stream",
     "text": [
      "[1, 2, 3, 4, 5, 'smith']\n",
      "[1, 2, 3, 1, 2, 3, 1, 2, 3]\n"
     ]
    }
   ],
   "source": [
    "# 리스트 연산\n",
    "print(a+b)\n",
    "print(a*3)"
   ]
  },
  {
   "cell_type": "markdown",
   "metadata": {
    "id": "7edpCq6AslXv",
    "slideshow": {
     "slide_type": "slide"
    }
   },
   "source": [
    "리스트, 데이터프레임, 배열 등 객체는 변수를 복사할 때 주의해야 합니다."
   ]
  },
  {
   "cell_type": "code",
   "execution_count": 75,
   "metadata": {
    "colab": {
     "base_uri": "https://localhost:8080/"
    },
    "executionInfo": {
     "elapsed": 6,
     "status": "ok",
     "timestamp": 1693906625054,
     "user": {
      "displayName": "­김당찬 / 학생 / 통계학과",
      "userId": "10984925773876423229"
     },
     "user_tz": -540
    },
    "id": "EIifVEtMslXw",
    "outputId": "9067dc39-efe5-4098-a318-383bdcfbf705",
    "slideshow": {
     "slide_type": "subslide"
    }
   },
   "outputs": [
    {
     "name": "stdout",
     "output_type": "stream",
     "text": [
      "[1, 2, 3]\n",
      "[100, 2, 3]\n",
      "[100, 2, 3]\n"
     ]
    }
   ],
   "source": [
    "a = [1,2,3]\n",
    "b = a\n",
    "\n",
    "print(b)\n",
    "\n",
    "a[0] = 100\n",
    "\n",
    "print(a)\n",
    "print(b)"
   ]
  },
  {
   "cell_type": "code",
   "execution_count": 76,
   "metadata": {
    "colab": {
     "base_uri": "https://localhost:8080/"
    },
    "executionInfo": {
     "elapsed": 6,
     "status": "ok",
     "timestamp": 1693906625054,
     "user": {
      "displayName": "­김당찬 / 학생 / 통계학과",
      "userId": "10984925773876423229"
     },
     "user_tz": -540
    },
    "id": "obf8_LrQslXw",
    "outputId": "7e03cd8a-df57-4867-f13a-c2ca973b2bec",
    "slideshow": {
     "slide_type": "subslide"
    }
   },
   "outputs": [
    {
     "name": "stdout",
     "output_type": "stream",
     "text": [
      "50\n",
      "100\n"
     ]
    }
   ],
   "source": [
    "a = 100\n",
    "b = a\n",
    "\n",
    "a = 50\n",
    "\n",
    "print(a)\n",
    "print(b)"
   ]
  },
  {
   "cell_type": "code",
   "execution_count": 77,
   "metadata": {
    "colab": {
     "base_uri": "https://localhost:8080/"
    },
    "executionInfo": {
     "elapsed": 2,
     "status": "ok",
     "timestamp": 1693906625396,
     "user": {
      "displayName": "­김당찬 / 학생 / 통계학과",
      "userId": "10984925773876423229"
     },
     "user_tz": -540
    },
    "id": "q0ok5GVAslXw",
    "outputId": "9f88cd5d-a6f7-41cb-f847-47334e74a666",
    "slideshow": {
     "slide_type": "subslide"
    }
   },
   "outputs": [
    {
     "name": "stdout",
     "output_type": "stream",
     "text": [
      "[100, 2, 3]\n",
      "[1, 2, 3]\n"
     ]
    }
   ],
   "source": [
    "a = [1,2,3]\n",
    "b = a.copy()\n",
    "\n",
    "a[0] = 100\n",
    "\n",
    "print(a)\n",
    "print(b)"
   ]
  },
  {
   "cell_type": "markdown",
   "metadata": {
    "slideshow": {
     "slide_type": "subslide"
    }
   },
   "source": [
    "2차원 이상의 리스트, 배열 등은 복사할 때 `copy` 모듈을 사용해야 합니다."
   ]
  },
  {
   "cell_type": "code",
   "execution_count": 78,
   "metadata": {
    "slideshow": {
     "slide_type": "subslide"
    }
   },
   "outputs": [
    {
     "name": "stdout",
     "output_type": "stream",
     "text": [
      "[[100, 2, 3], [4, 5, 6], [7, 8, 9]]\n",
      "[[100, 2, 3], [4, 5, 6], [7, 8, 9]]\n"
     ]
    }
   ],
   "source": [
    "double_list = [[1,2,3],[4,5,6],[7,8,9]]\n",
    "copied_list = double_list.copy()\n",
    "\n",
    "double_list[0][0] = 100\n",
    "print(double_list)\n",
    "print(copied_list)"
   ]
  },
  {
   "cell_type": "markdown",
   "metadata": {
    "slideshow": {
     "slide_type": "subslide"
    }
   },
   "source": [
    "from copy import deepcopy\n",
    "\n",
    "double_list = [[1,2,3],[4,5,6],[7,8,9] ]\n",
    "copied_list = deepcopy(double_list)\n",
    "\n",
    "double_list[0][0] = 100\n",
    "print(double_list)\n",
    "print(copied_list)"
   ]
  },
  {
   "cell_type": "markdown",
   "metadata": {
    "id": "mW0HYBxMzypT",
    "slideshow": {
     "slide_type": "slide"
    }
   },
   "source": [
    "# 데이터 프레임 정의하기"
   ]
  },
  {
   "cell_type": "markdown",
   "metadata": {
    "id": "ylJVLsMAeVRi",
    "slideshow": {
     "slide_type": "slide"
    }
   },
   "source": [
    "- 딕셔너리 : `pd.DataFrame()`\n",
    "- 파일 불러오기 : `read_csv()`, `read_excel()`\n",
    "- 파일의 경로는 문자형\n",
    "- ex. `pd.read_csv('content/drive/Mydrive/file.csv')`"
   ]
  },
  {
   "cell_type": "code",
   "execution_count": 80,
   "metadata": {
    "id": "pj6gPTMeslXw",
    "slideshow": {
     "slide_type": "subslide"
    }
   },
   "outputs": [],
   "source": [
    "import pandas as pd\n",
    "import numpy as np"
   ]
  },
  {
   "cell_type": "code",
   "execution_count": 81,
   "metadata": {
    "id": "MnaUUioKb7JD",
    "slideshow": {
     "slide_type": "subslide"
    }
   },
   "outputs": [],
   "source": [
    "df = pd.DataFrame(\n",
    "{ '이름' : ['이철수', '김영희', '홍길동', 'John Smith'],\n",
    "'성별' : ['M', 'F', 'M', 'M'],\n",
    "'나이' : [ 23, 25, 21, 33]\n",
    "} )"
   ]
  },
  {
   "cell_type": "code",
   "execution_count": 82,
   "metadata": {
    "colab": {
     "base_uri": "https://localhost:8080/",
     "height": 173
    },
    "executionInfo": {
     "elapsed": 5,
     "status": "ok",
     "timestamp": 1693906627212,
     "user": {
      "displayName": "­김당찬 / 학생 / 통계학과",
      "userId": "10984925773876423229"
     },
     "user_tz": -540
    },
    "id": "_-Z_3_6odEeW",
    "outputId": "4dd1ed6d-2f11-4fc5-a46f-b795b5d9709a",
    "slideshow": {
     "slide_type": "subslide"
    }
   },
   "outputs": [
    {
     "data": {
      "text/html": [
       "<div>\n",
       "<style scoped>\n",
       "    .dataframe tbody tr th:only-of-type {\n",
       "        vertical-align: middle;\n",
       "    }\n",
       "\n",
       "    .dataframe tbody tr th {\n",
       "        vertical-align: top;\n",
       "    }\n",
       "\n",
       "    .dataframe thead th {\n",
       "        text-align: right;\n",
       "    }\n",
       "</style>\n",
       "<table border=\"1\" class=\"dataframe\">\n",
       "  <thead>\n",
       "    <tr style=\"text-align: right;\">\n",
       "      <th></th>\n",
       "      <th>이름</th>\n",
       "      <th>성별</th>\n",
       "      <th>나이</th>\n",
       "    </tr>\n",
       "  </thead>\n",
       "  <tbody>\n",
       "    <tr>\n",
       "      <th>0</th>\n",
       "      <td>이철수</td>\n",
       "      <td>M</td>\n",
       "      <td>23</td>\n",
       "    </tr>\n",
       "    <tr>\n",
       "      <th>1</th>\n",
       "      <td>김영희</td>\n",
       "      <td>F</td>\n",
       "      <td>25</td>\n",
       "    </tr>\n",
       "    <tr>\n",
       "      <th>2</th>\n",
       "      <td>홍길동</td>\n",
       "      <td>M</td>\n",
       "      <td>21</td>\n",
       "    </tr>\n",
       "    <tr>\n",
       "      <th>3</th>\n",
       "      <td>John Smith</td>\n",
       "      <td>M</td>\n",
       "      <td>33</td>\n",
       "    </tr>\n",
       "  </tbody>\n",
       "</table>\n",
       "</div>"
      ],
      "text/plain": [
       "           이름 성별  나이\n",
       "0         이철수  M  23\n",
       "1         김영희  F  25\n",
       "2         홍길동  M  21\n",
       "3  John Smith  M  33"
      ]
     },
     "execution_count": 82,
     "metadata": {},
     "output_type": "execute_result"
    }
   ],
   "source": [
    "df"
   ]
  },
  {
   "cell_type": "code",
   "execution_count": 83,
   "metadata": {
    "id": "WxxjVozzslXw",
    "slideshow": {
     "slide_type": "subslide"
    }
   },
   "outputs": [],
   "source": [
    "# 파일 불러오기\n",
    "\n",
    "# df = pd.read_csv('파일경로')"
   ]
  },
  {
   "cell_type": "markdown",
   "metadata": {
    "id": "TQyMenF4z1ZQ",
    "slideshow": {
     "slide_type": "slide"
    }
   },
   "source": [
    "# 데이터 프레임 조작하기"
   ]
  },
  {
   "cell_type": "markdown",
   "metadata": {
    "id": "L6DBKUZseVRi",
    "slideshow": {
     "slide_type": "slide"
    }
   },
   "source": [
    "- 우선 기본적인 내용을 다루고, 자세한 내용은 4강에서 다루도록 하겠습니다."
   ]
  },
  {
   "cell_type": "markdown",
   "metadata": {
    "slideshow": {
     "slide_type": "slide"
    }
   },
   "source": [
    "## Indexing"
   ]
  },
  {
   "cell_type": "code",
   "execution_count": 84,
   "metadata": {
    "colab": {
     "base_uri": "https://localhost:8080/"
    },
    "executionInfo": {
     "elapsed": 308,
     "status": "ok",
     "timestamp": 1693906681873,
     "user": {
      "displayName": "­김당찬 / 학생 / 통계학과",
      "userId": "10984925773876423229"
     },
     "user_tz": -540
    },
    "id": "yAHxHzC4slXx",
    "outputId": "e08e9d53-744f-4316-fa5f-3fd6d1c0ea77",
    "scrolled": true,
    "slideshow": {
     "slide_type": "subslide"
    }
   },
   "outputs": [
    {
     "data": {
      "text/plain": [
       "0    이철수\n",
       "1    김영희\n",
       "Name: 이름, dtype: object"
      ]
     },
     "execution_count": 84,
     "metadata": {},
     "output_type": "execute_result"
    }
   ],
   "source": [
    "df.iloc[0:2,0] # iloc: index location의 약자"
   ]
  },
  {
   "cell_type": "code",
   "execution_count": 85,
   "metadata": {
    "colab": {
     "base_uri": "https://localhost:8080/"
    },
    "executionInfo": {
     "elapsed": 2,
     "status": "ok",
     "timestamp": 1693906682925,
     "user": {
      "displayName": "­김당찬 / 학생 / 통계학과",
      "userId": "10984925773876423229"
     },
     "user_tz": -540
    },
    "id": "CL9hSnMdslXx",
    "outputId": "fed24e13-9981-497e-babd-593ab4004a7b",
    "slideshow": {
     "slide_type": "subslide"
    }
   },
   "outputs": [
    {
     "data": {
      "text/plain": [
       "33"
      ]
     },
     "execution_count": 85,
     "metadata": {},
     "output_type": "execute_result"
    }
   ],
   "source": [
    "df.iloc[3,2] # 33\n",
    "df.iat[3,2] # More efficient"
   ]
  },
  {
   "cell_type": "code",
   "execution_count": 87,
   "metadata": {
    "id": "uhw4Sk1FeVRj",
    "slideshow": {
     "slide_type": "subslide"
    }
   },
   "outputs": [
    {
     "data": {
      "text/html": [
       "<div>\n",
       "<style scoped>\n",
       "    .dataframe tbody tr th:only-of-type {\n",
       "        vertical-align: middle;\n",
       "    }\n",
       "\n",
       "    .dataframe tbody tr th {\n",
       "        vertical-align: top;\n",
       "    }\n",
       "\n",
       "    .dataframe thead th {\n",
       "        text-align: right;\n",
       "    }\n",
       "</style>\n",
       "<table border=\"1\" class=\"dataframe\">\n",
       "  <thead>\n",
       "    <tr style=\"text-align: right;\">\n",
       "      <th></th>\n",
       "      <th>col_1</th>\n",
       "    </tr>\n",
       "  </thead>\n",
       "  <tbody>\n",
       "    <tr>\n",
       "      <th>0</th>\n",
       "      <td>0.0</td>\n",
       "    </tr>\n",
       "    <tr>\n",
       "      <th>1</th>\n",
       "      <td>0.0</td>\n",
       "    </tr>\n",
       "    <tr>\n",
       "      <th>2</th>\n",
       "      <td>0.0</td>\n",
       "    </tr>\n",
       "    <tr>\n",
       "      <th>3</th>\n",
       "      <td>0.0</td>\n",
       "    </tr>\n",
       "    <tr>\n",
       "      <th>4</th>\n",
       "      <td>0.0</td>\n",
       "    </tr>\n",
       "    <tr>\n",
       "      <th>...</th>\n",
       "      <td>...</td>\n",
       "    </tr>\n",
       "    <tr>\n",
       "      <th>99995</th>\n",
       "      <td>0.0</td>\n",
       "    </tr>\n",
       "    <tr>\n",
       "      <th>99996</th>\n",
       "      <td>0.0</td>\n",
       "    </tr>\n",
       "    <tr>\n",
       "      <th>99997</th>\n",
       "      <td>0.0</td>\n",
       "    </tr>\n",
       "    <tr>\n",
       "      <th>99998</th>\n",
       "      <td>0.0</td>\n",
       "    </tr>\n",
       "    <tr>\n",
       "      <th>99999</th>\n",
       "      <td>0.0</td>\n",
       "    </tr>\n",
       "  </tbody>\n",
       "</table>\n",
       "<p>100000 rows × 1 columns</p>\n",
       "</div>"
      ],
      "text/plain": [
       "       col_1\n",
       "0        0.0\n",
       "1        0.0\n",
       "2        0.0\n",
       "3        0.0\n",
       "4        0.0\n",
       "...      ...\n",
       "99995    0.0\n",
       "99996    0.0\n",
       "99997    0.0\n",
       "99998    0.0\n",
       "99999    0.0\n",
       "\n",
       "[100000 rows x 1 columns]"
      ]
     },
     "execution_count": 87,
     "metadata": {},
     "output_type": "execute_result"
    }
   ],
   "source": [
    "test_df = pd.DataFrame(data={'col_1' : np.zeros(int(1e5))})\n",
    "\n",
    "def test_iloc():\n",
    "    for i in range(len(test_df)):\n",
    "        test_df.iloc[i,0] = i\n",
    "\n",
    "def test_iat():\n",
    "    for i in range(len(test_df)):\n",
    "        test_df.iat[i,0] = i\n",
    "        \n",
    "test_df"
   ]
  },
  {
   "cell_type": "code",
   "execution_count": 88,
   "metadata": {
    "id": "tOqzq4qoeVRk",
    "outputId": "cc7f1d13-60f8-4ef6-ca88-044d7b67f3a9",
    "scrolled": true,
    "slideshow": {
     "slide_type": "subslide"
    }
   },
   "outputs": [
    {
     "name": "stdout",
     "output_type": "stream",
     "text": [
      "CPU times: user 2.45 s, sys: 6.22 ms, total: 2.45 s\n",
      "Wall time: 2.45 s\n",
      "CPU times: user 771 ms, sys: 2.02 ms, total: 773 ms\n",
      "Wall time: 772 ms\n"
     ]
    }
   ],
   "source": [
    "%time test_iloc()\n",
    "%time test_iat()"
   ]
  },
  {
   "cell_type": "code",
   "execution_count": 89,
   "metadata": {
    "colab": {
     "base_uri": "https://localhost:8080/"
    },
    "executionInfo": {
     "elapsed": 310,
     "status": "ok",
     "timestamp": 1693906699814,
     "user": {
      "displayName": "­김당찬 / 학생 / 통계학과",
      "userId": "10984925773876423229"
     },
     "user_tz": -540
    },
    "id": "SRdGrgrsdE6L",
    "outputId": "5bf04ad7-03ed-445d-fcce-83f57055b547",
    "slideshow": {
     "slide_type": "subslide"
    }
   },
   "outputs": [
    {
     "data": {
      "text/plain": [
       "이름    이철수\n",
       "성별      M\n",
       "나이     23\n",
       "Name: 0, dtype: object"
      ]
     },
     "execution_count": 89,
     "metadata": {},
     "output_type": "execute_result"
    }
   ],
   "source": [
    "# 첫번째 행\n",
    "df.iloc[0] # 혹은 df.iloc[0,:]"
   ]
  },
  {
   "cell_type": "code",
   "execution_count": 90,
   "metadata": {
    "colab": {
     "base_uri": "https://localhost:8080/",
     "height": 173
    },
    "executionInfo": {
     "elapsed": 4,
     "status": "ok",
     "timestamp": 1693906700900,
     "user": {
      "displayName": "­김당찬 / 학생 / 통계학과",
      "userId": "10984925773876423229"
     },
     "user_tz": -540
    },
    "id": "9cQP24e3dG_N",
    "outputId": "7610e407-2555-40fe-b6c9-6bb6cba0564f",
    "slideshow": {
     "slide_type": "subslide"
    }
   },
   "outputs": [
    {
     "data": {
      "text/html": [
       "<div>\n",
       "<style scoped>\n",
       "    .dataframe tbody tr th:only-of-type {\n",
       "        vertical-align: middle;\n",
       "    }\n",
       "\n",
       "    .dataframe tbody tr th {\n",
       "        vertical-align: top;\n",
       "    }\n",
       "\n",
       "    .dataframe thead th {\n",
       "        text-align: right;\n",
       "    }\n",
       "</style>\n",
       "<table border=\"1\" class=\"dataframe\">\n",
       "  <thead>\n",
       "    <tr style=\"text-align: right;\">\n",
       "      <th></th>\n",
       "      <th>이름</th>\n",
       "      <th>나이</th>\n",
       "    </tr>\n",
       "  </thead>\n",
       "  <tbody>\n",
       "    <tr>\n",
       "      <th>0</th>\n",
       "      <td>이철수</td>\n",
       "      <td>23</td>\n",
       "    </tr>\n",
       "    <tr>\n",
       "      <th>1</th>\n",
       "      <td>김영희</td>\n",
       "      <td>25</td>\n",
       "    </tr>\n",
       "    <tr>\n",
       "      <th>2</th>\n",
       "      <td>홍길동</td>\n",
       "      <td>21</td>\n",
       "    </tr>\n",
       "    <tr>\n",
       "      <th>3</th>\n",
       "      <td>John Smith</td>\n",
       "      <td>33</td>\n",
       "    </tr>\n",
       "  </tbody>\n",
       "</table>\n",
       "</div>"
      ],
      "text/plain": [
       "           이름  나이\n",
       "0         이철수  23\n",
       "1         김영희  25\n",
       "2         홍길동  21\n",
       "3  John Smith  33"
      ]
     },
     "execution_count": 90,
     "metadata": {},
     "output_type": "execute_result"
    }
   ],
   "source": [
    "df[['이름','나이']] # df.loc[:,['이름','나이']]"
   ]
  },
  {
   "cell_type": "code",
   "execution_count": 91,
   "metadata": {
    "colab": {
     "base_uri": "https://localhost:8080/"
    },
    "executionInfo": {
     "elapsed": 2,
     "status": "ok",
     "timestamp": 1693906702239,
     "user": {
      "displayName": "­김당찬 / 학생 / 통계학과",
      "userId": "10984925773876423229"
     },
     "user_tz": -540
    },
    "id": "eXcQKvs2dNLu",
    "outputId": "759b2490-43b5-4dd3-dabb-e5c566ff79d9",
    "slideshow": {
     "slide_type": "subslide"
    }
   },
   "outputs": [
    {
     "name": "stdout",
     "output_type": "stream",
     "text": [
      "0    23\n",
      "1    25\n",
      "2    21\n",
      "3    33\n",
      "Name: 나이, dtype: int64\n",
      "<class 'pandas.core.series.Series'>\n",
      "<class 'pandas.core.frame.DataFrame'>\n"
     ]
    }
   ],
   "source": [
    "print(df.나이)\n",
    "print(type(df.나이))\n",
    "print(type(df))"
   ]
  },
  {
   "cell_type": "markdown",
   "metadata": {
    "id": "1yq-EUF7slXx",
    "slideshow": {
     "slide_type": "slide"
    }
   },
   "source": [
    "### 특정 조건에 맞는 행 추출하기"
   ]
  },
  {
   "cell_type": "code",
   "execution_count": 92,
   "metadata": {
    "id": "PFwJQROEeVRk",
    "outputId": "97834201-e0ea-462f-8569-1ca4561f698c",
    "scrolled": true,
    "slideshow": {
     "slide_type": "subslide"
    }
   },
   "outputs": [
    {
     "data": {
      "text/plain": [
       "0    False\n",
       "1     True\n",
       "2    False\n",
       "3     True\n",
       "Name: 나이, dtype: bool"
      ]
     },
     "execution_count": 92,
     "metadata": {},
     "output_type": "execute_result"
    }
   ],
   "source": [
    "df['나이'] >= 25 # boolean series"
   ]
  },
  {
   "cell_type": "code",
   "execution_count": 93,
   "metadata": {
    "colab": {
     "base_uri": "https://localhost:8080/",
     "height": 111
    },
    "executionInfo": {
     "elapsed": 3,
     "status": "ok",
     "timestamp": 1693906703810,
     "user": {
      "displayName": "­김당찬 / 학생 / 통계학과",
      "userId": "10984925773876423229"
     },
     "user_tz": -540
    },
    "id": "jpWEWpllslXx",
    "outputId": "499a9793-2feb-4dc3-8359-e70b16d65d91",
    "slideshow": {
     "slide_type": "subslide"
    }
   },
   "outputs": [
    {
     "data": {
      "text/html": [
       "<div>\n",
       "<style scoped>\n",
       "    .dataframe tbody tr th:only-of-type {\n",
       "        vertical-align: middle;\n",
       "    }\n",
       "\n",
       "    .dataframe tbody tr th {\n",
       "        vertical-align: top;\n",
       "    }\n",
       "\n",
       "    .dataframe thead th {\n",
       "        text-align: right;\n",
       "    }\n",
       "</style>\n",
       "<table border=\"1\" class=\"dataframe\">\n",
       "  <thead>\n",
       "    <tr style=\"text-align: right;\">\n",
       "      <th></th>\n",
       "      <th>이름</th>\n",
       "      <th>성별</th>\n",
       "      <th>나이</th>\n",
       "    </tr>\n",
       "  </thead>\n",
       "  <tbody>\n",
       "    <tr>\n",
       "      <th>1</th>\n",
       "      <td>김영희</td>\n",
       "      <td>F</td>\n",
       "      <td>25</td>\n",
       "    </tr>\n",
       "    <tr>\n",
       "      <th>3</th>\n",
       "      <td>John Smith</td>\n",
       "      <td>M</td>\n",
       "      <td>33</td>\n",
       "    </tr>\n",
       "  </tbody>\n",
       "</table>\n",
       "</div>"
      ],
      "text/plain": [
       "           이름 성별  나이\n",
       "1         김영희  F  25\n",
       "3  John Smith  M  33"
      ]
     },
     "execution_count": 93,
     "metadata": {},
     "output_type": "execute_result"
    }
   ],
   "source": [
    "df[df['나이']>=25]"
   ]
  },
  {
   "cell_type": "code",
   "execution_count": 94,
   "metadata": {
    "colab": {
     "base_uri": "https://localhost:8080/"
    },
    "executionInfo": {
     "elapsed": 9,
     "status": "ok",
     "timestamp": 1693906704582,
     "user": {
      "displayName": "­김당찬 / 학생 / 통계학과",
      "userId": "10984925773876423229"
     },
     "user_tz": -540
    },
    "id": "w5mPYAs_slXx",
    "outputId": "ebd9d87b-4058-4ab3-9da8-eb3db3da4d72",
    "scrolled": true,
    "slideshow": {
     "slide_type": "subslide"
    }
   },
   "outputs": [
    {
     "data": {
      "text/plain": [
       "0    M\n",
       "1    F\n",
       "2    M\n",
       "Name: 성별, dtype: object"
      ]
     },
     "execution_count": 94,
     "metadata": {},
     "output_type": "execute_result"
    }
   ],
   "source": [
    "# df[(20<=df['나이']<30)]['성별'] # error\n",
    "df[(20<=df['나이']) & (df['나이']<30)]['성별'] # 20대"
   ]
  },
  {
   "cell_type": "code",
   "execution_count": 95,
   "metadata": {
    "id": "TyRREeXfZGfH",
    "scrolled": true,
    "slideshow": {
     "slide_type": "subslide"
    }
   },
   "outputs": [
    {
     "data": {
      "text/html": [
       "<div>\n",
       "<style scoped>\n",
       "    .dataframe tbody tr th:only-of-type {\n",
       "        vertical-align: middle;\n",
       "    }\n",
       "\n",
       "    .dataframe tbody tr th {\n",
       "        vertical-align: top;\n",
       "    }\n",
       "\n",
       "    .dataframe thead th {\n",
       "        text-align: right;\n",
       "    }\n",
       "</style>\n",
       "<table border=\"1\" class=\"dataframe\">\n",
       "  <thead>\n",
       "    <tr style=\"text-align: right;\">\n",
       "      <th></th>\n",
       "      <th>이름</th>\n",
       "      <th>성별</th>\n",
       "      <th>나이</th>\n",
       "    </tr>\n",
       "  </thead>\n",
       "  <tbody>\n",
       "    <tr>\n",
       "      <th>1</th>\n",
       "      <td>김영희</td>\n",
       "      <td>F</td>\n",
       "      <td>25</td>\n",
       "    </tr>\n",
       "    <tr>\n",
       "      <th>3</th>\n",
       "      <td>John Smith</td>\n",
       "      <td>M</td>\n",
       "      <td>33</td>\n",
       "    </tr>\n",
       "  </tbody>\n",
       "</table>\n",
       "</div>"
      ],
      "text/plain": [
       "           이름 성별  나이\n",
       "1         김영희  F  25\n",
       "3  John Smith  M  33"
      ]
     },
     "execution_count": 95,
     "metadata": {},
     "output_type": "execute_result"
    }
   ],
   "source": [
    "df[df['나이']>=25]"
   ]
  },
  {
   "cell_type": "code",
   "execution_count": 96,
   "metadata": {
    "colab": {
     "base_uri": "https://localhost:8080/",
     "height": 80
    },
    "executionInfo": {
     "elapsed": 2,
     "status": "ok",
     "timestamp": 1693906706085,
     "user": {
      "displayName": "­김당찬 / 학생 / 통계학과",
      "userId": "10984925773876423229"
     },
     "user_tz": -540
    },
    "id": "nmkuxhbsYi2k",
    "outputId": "00c9983f-2435-4534-bc41-b47d07be9cb9",
    "slideshow": {
     "slide_type": "subslide"
    }
   },
   "outputs": [
    {
     "data": {
      "text/html": [
       "<div>\n",
       "<style scoped>\n",
       "    .dataframe tbody tr th:only-of-type {\n",
       "        vertical-align: middle;\n",
       "    }\n",
       "\n",
       "    .dataframe tbody tr th {\n",
       "        vertical-align: top;\n",
       "    }\n",
       "\n",
       "    .dataframe thead th {\n",
       "        text-align: right;\n",
       "    }\n",
       "</style>\n",
       "<table border=\"1\" class=\"dataframe\">\n",
       "  <thead>\n",
       "    <tr style=\"text-align: right;\">\n",
       "      <th></th>\n",
       "      <th>이름</th>\n",
       "      <th>성별</th>\n",
       "      <th>나이</th>\n",
       "    </tr>\n",
       "  </thead>\n",
       "  <tbody>\n",
       "    <tr>\n",
       "      <th>3</th>\n",
       "      <td>John Smith</td>\n",
       "      <td>M</td>\n",
       "      <td>33</td>\n",
       "    </tr>\n",
       "  </tbody>\n",
       "</table>\n",
       "</div>"
      ],
      "text/plain": [
       "           이름 성별  나이\n",
       "3  John Smith  M  33"
      ]
     },
     "execution_count": 96,
     "metadata": {},
     "output_type": "execute_result"
    }
   ],
   "source": [
    "df[ df['나이']//10==3 ]"
   ]
  },
  {
   "cell_type": "code",
   "execution_count": 97,
   "metadata": {
    "id": "xX1j_LHJeKsO",
    "slideshow": {
     "slide_type": "subslide"
    }
   },
   "outputs": [
    {
     "data": {
      "text/html": [
       "<div>\n",
       "<style scoped>\n",
       "    .dataframe tbody tr th:only-of-type {\n",
       "        vertical-align: middle;\n",
       "    }\n",
       "\n",
       "    .dataframe tbody tr th {\n",
       "        vertical-align: top;\n",
       "    }\n",
       "\n",
       "    .dataframe thead th {\n",
       "        text-align: right;\n",
       "    }\n",
       "</style>\n",
       "<table border=\"1\" class=\"dataframe\">\n",
       "  <thead>\n",
       "    <tr style=\"text-align: right;\">\n",
       "      <th></th>\n",
       "      <th>이름</th>\n",
       "      <th>성별</th>\n",
       "      <th>나이</th>\n",
       "    </tr>\n",
       "  </thead>\n",
       "  <tbody>\n",
       "    <tr>\n",
       "      <th>0</th>\n",
       "      <td>이철수</td>\n",
       "      <td>M</td>\n",
       "      <td>23</td>\n",
       "    </tr>\n",
       "    <tr>\n",
       "      <th>1</th>\n",
       "      <td>김영희</td>\n",
       "      <td>F</td>\n",
       "      <td>25</td>\n",
       "    </tr>\n",
       "    <tr>\n",
       "      <th>2</th>\n",
       "      <td>홍길동</td>\n",
       "      <td>M</td>\n",
       "      <td>21</td>\n",
       "    </tr>\n",
       "  </tbody>\n",
       "</table>\n",
       "</div>"
      ],
      "text/plain": [
       "    이름 성별  나이\n",
       "0  이철수  M  23\n",
       "1  김영희  F  25\n",
       "2  홍길동  M  21"
      ]
     },
     "execution_count": 97,
     "metadata": {},
     "output_type": "execute_result"
    }
   ],
   "source": [
    "df[(df.나이>=20) & (df.나이<30) ]"
   ]
  },
  {
   "cell_type": "code",
   "execution_count": 99,
   "metadata": {
    "colab": {
     "base_uri": "https://localhost:8080/",
     "height": 173
    },
    "executionInfo": {
     "elapsed": 4,
     "status": "ok",
     "timestamp": 1693906707190,
     "user": {
      "displayName": "­김당찬 / 학생 / 통계학과",
      "userId": "10984925773876423229"
     },
     "user_tz": -540
    },
    "id": "P71Q46exdTTt",
    "outputId": "28fe2071-f79a-44ff-f55f-1a8e26f3b2e3",
    "slideshow": {
     "slide_type": "subslide"
    }
   },
   "outputs": [
    {
     "data": {
      "text/html": [
       "<div>\n",
       "<style scoped>\n",
       "    .dataframe tbody tr th:only-of-type {\n",
       "        vertical-align: middle;\n",
       "    }\n",
       "\n",
       "    .dataframe tbody tr th {\n",
       "        vertical-align: top;\n",
       "    }\n",
       "\n",
       "    .dataframe thead th {\n",
       "        text-align: right;\n",
       "    }\n",
       "</style>\n",
       "<table border=\"1\" class=\"dataframe\">\n",
       "  <thead>\n",
       "    <tr style=\"text-align: right;\">\n",
       "      <th></th>\n",
       "      <th>이름</th>\n",
       "      <th>성별</th>\n",
       "      <th>나이</th>\n",
       "    </tr>\n",
       "  </thead>\n",
       "  <tbody>\n",
       "    <tr>\n",
       "      <th>0</th>\n",
       "      <td>이철수</td>\n",
       "      <td>M</td>\n",
       "      <td>23</td>\n",
       "    </tr>\n",
       "    <tr>\n",
       "      <th>1</th>\n",
       "      <td>김영희</td>\n",
       "      <td>F</td>\n",
       "      <td>25</td>\n",
       "    </tr>\n",
       "    <tr>\n",
       "      <th>2</th>\n",
       "      <td>홍길동</td>\n",
       "      <td>M</td>\n",
       "      <td>21</td>\n",
       "    </tr>\n",
       "    <tr>\n",
       "      <th>3</th>\n",
       "      <td>John Smith</td>\n",
       "      <td>M</td>\n",
       "      <td>33</td>\n",
       "    </tr>\n",
       "  </tbody>\n",
       "</table>\n",
       "</div>"
      ],
      "text/plain": [
       "           이름 성별  나이\n",
       "0         이철수  M  23\n",
       "1         김영희  F  25\n",
       "2         홍길동  M  21\n",
       "3  John Smith  M  33"
      ]
     },
     "execution_count": 99,
     "metadata": {},
     "output_type": "execute_result"
    }
   ],
   "source": [
    "df[(df.나이>=20) | (df.나이<30) ]"
   ]
  },
  {
   "cell_type": "markdown",
   "metadata": {
    "id": "HUWKJJ5Dz3xG",
    "slideshow": {
     "slide_type": "slide"
    }
   },
   "source": [
    "# 데이터프레임 요약 및 함수"
   ]
  },
  {
   "cell_type": "code",
   "execution_count": 100,
   "metadata": {
    "colab": {
     "base_uri": "https://localhost:8080/",
     "height": 297
    },
    "executionInfo": {
     "elapsed": 3,
     "status": "ok",
     "timestamp": 1693906707664,
     "user": {
      "displayName": "­김당찬 / 학생 / 통계학과",
      "userId": "10984925773876423229"
     },
     "user_tz": -540
    },
    "id": "wqkzJNJ2slXy",
    "outputId": "267f6c41-c566-457d-bd2c-58f191b86866",
    "slideshow": {
     "slide_type": "subslide"
    }
   },
   "outputs": [
    {
     "data": {
      "text/html": [
       "<div>\n",
       "<style scoped>\n",
       "    .dataframe tbody tr th:only-of-type {\n",
       "        vertical-align: middle;\n",
       "    }\n",
       "\n",
       "    .dataframe tbody tr th {\n",
       "        vertical-align: top;\n",
       "    }\n",
       "\n",
       "    .dataframe thead th {\n",
       "        text-align: right;\n",
       "    }\n",
       "</style>\n",
       "<table border=\"1\" class=\"dataframe\">\n",
       "  <thead>\n",
       "    <tr style=\"text-align: right;\">\n",
       "      <th></th>\n",
       "      <th>나이</th>\n",
       "    </tr>\n",
       "  </thead>\n",
       "  <tbody>\n",
       "    <tr>\n",
       "      <th>count</th>\n",
       "      <td>4.000000</td>\n",
       "    </tr>\n",
       "    <tr>\n",
       "      <th>mean</th>\n",
       "      <td>25.500000</td>\n",
       "    </tr>\n",
       "    <tr>\n",
       "      <th>std</th>\n",
       "      <td>5.259911</td>\n",
       "    </tr>\n",
       "    <tr>\n",
       "      <th>min</th>\n",
       "      <td>21.000000</td>\n",
       "    </tr>\n",
       "    <tr>\n",
       "      <th>25%</th>\n",
       "      <td>22.500000</td>\n",
       "    </tr>\n",
       "    <tr>\n",
       "      <th>50%</th>\n",
       "      <td>24.000000</td>\n",
       "    </tr>\n",
       "    <tr>\n",
       "      <th>75%</th>\n",
       "      <td>27.000000</td>\n",
       "    </tr>\n",
       "    <tr>\n",
       "      <th>max</th>\n",
       "      <td>33.000000</td>\n",
       "    </tr>\n",
       "  </tbody>\n",
       "</table>\n",
       "</div>"
      ],
      "text/plain": [
       "              나이\n",
       "count   4.000000\n",
       "mean   25.500000\n",
       "std     5.259911\n",
       "min    21.000000\n",
       "25%    22.500000\n",
       "50%    24.000000\n",
       "75%    27.000000\n",
       "max    33.000000"
      ]
     },
     "execution_count": 100,
     "metadata": {},
     "output_type": "execute_result"
    }
   ],
   "source": [
    "df.describe()"
   ]
  },
  {
   "cell_type": "code",
   "execution_count": 102,
   "metadata": {
    "colab": {
     "base_uri": "https://localhost:8080/"
    },
    "executionInfo": {
     "elapsed": 2,
     "status": "ok",
     "timestamp": 1693906708114,
     "user": {
      "displayName": "­김당찬 / 학생 / 통계학과",
      "userId": "10984925773876423229"
     },
     "user_tz": -540
    },
    "id": "sDzJc1D7dv87",
    "outputId": "cbdf2340-9e15-436a-b17f-2dd9adf86296",
    "scrolled": false,
    "slideshow": {
     "slide_type": "subslide"
    }
   },
   "outputs": [
    {
     "name": "stdout",
     "output_type": "stream",
     "text": [
      "이름    홍길동\n",
      "성별      M\n",
      "나이     33\n",
      "dtype: object\n"
     ]
    }
   ],
   "source": [
    "# print(df.max())\n",
    "print(df.max())"
   ]
  },
  {
   "cell_type": "code",
   "execution_count": 104,
   "metadata": {
    "id": "N_2U9pLyeVRl",
    "outputId": "0b748c3a-5040-49d5-bc58-d15c000caeea",
    "slideshow": {
     "slide_type": "subslide"
    }
   },
   "outputs": [
    {
     "name": "stdout",
     "output_type": "stream",
     "text": [
      "나이    25.5\n",
      "dtype: float64\n",
      "나이    24.0\n",
      "dtype: float64\n"
     ]
    }
   ],
   "source": [
    "print(df.mean(numeric_only=True))\n",
    "print(df.median(numeric_only=True))"
   ]
  },
  {
   "cell_type": "code",
   "execution_count": 105,
   "metadata": {
    "colab": {
     "base_uri": "https://localhost:8080/"
    },
    "executionInfo": {
     "elapsed": 4,
     "status": "ok",
     "timestamp": 1693906708593,
     "user": {
      "displayName": "­김당찬 / 학생 / 통계학과",
      "userId": "10984925773876423229"
     },
     "user_tz": -540
    },
    "id": "8foib2YDdxb9",
    "outputId": "8e32e870-5462-4037-8621-5bc0baf34c3f",
    "scrolled": true,
    "slideshow": {
     "slide_type": "subslide"
    }
   },
   "outputs": [
    {
     "data": {
      "text/plain": [
       "(4, 3)"
      ]
     },
     "execution_count": 105,
     "metadata": {},
     "output_type": "execute_result"
    }
   ],
   "source": [
    "df.shape"
   ]
  },
  {
   "cell_type": "code",
   "execution_count": null,
   "metadata": {
    "colab": {
     "base_uri": "https://localhost:8080/",
     "height": 173
    },
    "executionInfo": {
     "elapsed": 3,
     "status": "ok",
     "timestamp": 1693906708593,
     "user": {
      "displayName": "­김당찬 / 학생 / 통계학과",
      "userId": "10984925773876423229"
     },
     "user_tz": -540
    },
    "id": "n4HKXCG2slXy",
    "outputId": "2063f221-d959-4051-d20c-0888a018c547",
    "slideshow": {
     "slide_type": "subslide"
    }
   },
   "outputs": [
    {
     "data": {
      "text/html": [
       "<div>\n",
       "<style scoped>\n",
       "    .dataframe tbody tr th:only-of-type {\n",
       "        vertical-align: middle;\n",
       "    }\n",
       "\n",
       "    .dataframe tbody tr th {\n",
       "        vertical-align: top;\n",
       "    }\n",
       "\n",
       "    .dataframe thead th {\n",
       "        text-align: right;\n",
       "    }\n",
       "</style>\n",
       "<table border=\"1\" class=\"dataframe\">\n",
       "  <thead>\n",
       "    <tr style=\"text-align: right;\">\n",
       "      <th>성별</th>\n",
       "      <th>F</th>\n",
       "      <th>M</th>\n",
       "    </tr>\n",
       "  </thead>\n",
       "  <tbody>\n",
       "    <tr>\n",
       "      <th>0</th>\n",
       "      <td>NaN</td>\n",
       "      <td>23.0</td>\n",
       "    </tr>\n",
       "    <tr>\n",
       "      <th>1</th>\n",
       "      <td>25.0</td>\n",
       "      <td>NaN</td>\n",
       "    </tr>\n",
       "    <tr>\n",
       "      <th>2</th>\n",
       "      <td>NaN</td>\n",
       "      <td>21.0</td>\n",
       "    </tr>\n",
       "    <tr>\n",
       "      <th>3</th>\n",
       "      <td>NaN</td>\n",
       "      <td>33.0</td>\n",
       "    </tr>\n",
       "  </tbody>\n",
       "</table>\n",
       "</div>"
      ],
      "text/plain": [
       "성별     F     M\n",
       "0    NaN  23.0\n",
       "1   25.0   NaN\n",
       "2    NaN  21.0\n",
       "3    NaN  33.0"
      ]
     },
     "execution_count": 79,
     "metadata": {},
     "output_type": "execute_result"
    }
   ],
   "source": [
    "df.pivot(columns='성별', values='나이') # pivot은 특정 두 열을 행과 열로 재구성"
   ]
  },
  {
   "cell_type": "code",
   "execution_count": null,
   "metadata": {
    "colab": {
     "base_uri": "https://localhost:8080/",
     "height": 142
    },
    "executionInfo": {
     "elapsed": 2,
     "status": "ok",
     "timestamp": 1693906708938,
     "user": {
      "displayName": "­김당찬 / 학생 / 통계학과",
      "userId": "10984925773876423229"
     },
     "user_tz": -540
    },
    "id": "rf-hwO6fslXz",
    "outputId": "15a1f062-e097-4c8f-e1b8-d73841c48d16",
    "slideshow": {
     "slide_type": "subslide"
    }
   },
   "outputs": [
    {
     "data": {
      "text/html": [
       "<div>\n",
       "<style scoped>\n",
       "    .dataframe tbody tr th:only-of-type {\n",
       "        vertical-align: middle;\n",
       "    }\n",
       "\n",
       "    .dataframe tbody tr th {\n",
       "        vertical-align: top;\n",
       "    }\n",
       "\n",
       "    .dataframe thead th {\n",
       "        text-align: right;\n",
       "    }\n",
       "</style>\n",
       "<table border=\"1\" class=\"dataframe\">\n",
       "  <thead>\n",
       "    <tr style=\"text-align: right;\">\n",
       "      <th></th>\n",
       "      <th>나이</th>\n",
       "    </tr>\n",
       "    <tr>\n",
       "      <th>성별</th>\n",
       "      <th></th>\n",
       "    </tr>\n",
       "  </thead>\n",
       "  <tbody>\n",
       "    <tr>\n",
       "      <th>F</th>\n",
       "      <td>25</td>\n",
       "    </tr>\n",
       "    <tr>\n",
       "      <th>M</th>\n",
       "      <td>33</td>\n",
       "    </tr>\n",
       "  </tbody>\n",
       "</table>\n",
       "</div>"
      ],
      "text/plain": [
       "    나이\n",
       "성별    \n",
       "F   25\n",
       "M   33"
      ]
     },
     "execution_count": 81,
     "metadata": {},
     "output_type": "execute_result"
    }
   ],
   "source": [
    "df.pivot_table(index='성별', values='나이', aggfunc='max') # pivot_table은 특정 열을 행으로 재구성하면서, 요약 통계량을 계산"
   ]
  },
  {
   "cell_type": "markdown",
   "metadata": {
    "id": "LTOhY83Qz6eg",
    "slideshow": {
     "slide_type": "slide"
    }
   },
   "source": [
    "# Train data 분석"
   ]
  },
  {
   "cell_type": "code",
   "execution_count": 106,
   "metadata": {
    "executionInfo": {
     "elapsed": 440,
     "status": "ok",
     "timestamp": 1694574040372,
     "user": {
      "displayName": "­김당찬 / 학생 / 통계학과",
      "userId": "10984925773876423229"
     },
     "user_tz": -540
    },
    "id": "hzhbPZMaslXz",
    "slideshow": {
     "slide_type": "subslide"
    }
   },
   "outputs": [],
   "source": [
    "import pandas as pd"
   ]
  },
  {
   "cell_type": "code",
   "execution_count": 107,
   "metadata": {
    "executionInfo": {
     "elapsed": 948,
     "status": "ok",
     "timestamp": 1694574041318,
     "user": {
      "displayName": "­김당찬 / 학생 / 통계학과",
      "userId": "10984925773876423229"
     },
     "user_tz": -540
    },
    "id": "odWhXiz7d1BL",
    "slideshow": {
     "slide_type": "subslide"
    }
   },
   "outputs": [],
   "source": [
    "url = \"http://raw.githubusercontent.com/ddangchani/Datascience23fall_data/main/data/train-data-01.csv\"\n",
    "train_raw_data = pd.read_csv(url)"
   ]
  },
  {
   "cell_type": "code",
   "execution_count": 108,
   "metadata": {
    "colab": {
     "base_uri": "https://localhost:8080/",
     "height": 423
    },
    "executionInfo": {
     "elapsed": 2,
     "status": "ok",
     "timestamp": 1694574043155,
     "user": {
      "displayName": "­김당찬 / 학생 / 통계학과",
      "userId": "10984925773876423229"
     },
     "user_tz": -540
    },
    "id": "368POMeGd3wD",
    "outputId": "268c01e0-145a-4a0f-a5f8-926e26e7eda1",
    "scrolled": false,
    "slideshow": {
     "slide_type": "subslide"
    }
   },
   "outputs": [
    {
     "data": {
      "text/html": [
       "<div>\n",
       "<style scoped>\n",
       "    .dataframe tbody tr th:only-of-type {\n",
       "        vertical-align: middle;\n",
       "    }\n",
       "\n",
       "    .dataframe tbody tr th {\n",
       "        vertical-align: top;\n",
       "    }\n",
       "\n",
       "    .dataframe thead th {\n",
       "        text-align: right;\n",
       "    }\n",
       "</style>\n",
       "<table border=\"1\" class=\"dataframe\">\n",
       "  <thead>\n",
       "    <tr style=\"text-align: right;\">\n",
       "      <th></th>\n",
       "      <th>TRAIN_NO</th>\n",
       "      <th>DATE</th>\n",
       "      <th>STATION_DEPART</th>\n",
       "      <th>STATION_ARRV</th>\n",
       "      <th>NUM_PASSENGER</th>\n",
       "    </tr>\n",
       "  </thead>\n",
       "  <tbody>\n",
       "    <tr>\n",
       "      <th>0</th>\n",
       "      <td>2</td>\n",
       "      <td>20190701</td>\n",
       "      <td>서울</td>\n",
       "      <td>대전</td>\n",
       "      <td>106.0</td>\n",
       "    </tr>\n",
       "    <tr>\n",
       "      <th>1</th>\n",
       "      <td>2</td>\n",
       "      <td>20190702</td>\n",
       "      <td>서울</td>\n",
       "      <td>대전</td>\n",
       "      <td>113.0</td>\n",
       "    </tr>\n",
       "    <tr>\n",
       "      <th>2</th>\n",
       "      <td>2</td>\n",
       "      <td>20190703</td>\n",
       "      <td>서울</td>\n",
       "      <td>대전</td>\n",
       "      <td>146.0</td>\n",
       "    </tr>\n",
       "    <tr>\n",
       "      <th>3</th>\n",
       "      <td>2</td>\n",
       "      <td>20190704</td>\n",
       "      <td>서울</td>\n",
       "      <td>대전</td>\n",
       "      <td>84.0</td>\n",
       "    </tr>\n",
       "    <tr>\n",
       "      <th>4</th>\n",
       "      <td>2</td>\n",
       "      <td>20190705</td>\n",
       "      <td>서울</td>\n",
       "      <td>대전</td>\n",
       "      <td>105.0</td>\n",
       "    </tr>\n",
       "    <tr>\n",
       "      <th>...</th>\n",
       "      <td>...</td>\n",
       "      <td>...</td>\n",
       "      <td>...</td>\n",
       "      <td>...</td>\n",
       "      <td>...</td>\n",
       "    </tr>\n",
       "    <tr>\n",
       "      <th>1764</th>\n",
       "      <td>6</td>\n",
       "      <td>20190726</td>\n",
       "      <td>울산</td>\n",
       "      <td>부산</td>\n",
       "      <td>10.0</td>\n",
       "    </tr>\n",
       "    <tr>\n",
       "      <th>1765</th>\n",
       "      <td>6</td>\n",
       "      <td>20190727</td>\n",
       "      <td>울산</td>\n",
       "      <td>부산</td>\n",
       "      <td>6.0</td>\n",
       "    </tr>\n",
       "    <tr>\n",
       "      <th>1766</th>\n",
       "      <td>6</td>\n",
       "      <td>20190728</td>\n",
       "      <td>울산</td>\n",
       "      <td>부산</td>\n",
       "      <td>21.0</td>\n",
       "    </tr>\n",
       "    <tr>\n",
       "      <th>1767</th>\n",
       "      <td>6</td>\n",
       "      <td>20190729</td>\n",
       "      <td>울산</td>\n",
       "      <td>부산</td>\n",
       "      <td>12.0</td>\n",
       "    </tr>\n",
       "    <tr>\n",
       "      <th>1768</th>\n",
       "      <td>6</td>\n",
       "      <td>20190730</td>\n",
       "      <td>울산</td>\n",
       "      <td>부산</td>\n",
       "      <td>11.0</td>\n",
       "    </tr>\n",
       "  </tbody>\n",
       "</table>\n",
       "<p>1769 rows × 5 columns</p>\n",
       "</div>"
      ],
      "text/plain": [
       "      TRAIN_NO      DATE STATION_DEPART STATION_ARRV  NUM_PASSENGER\n",
       "0            2  20190701             서울           대전          106.0\n",
       "1            2  20190702             서울           대전          113.0\n",
       "2            2  20190703             서울           대전          146.0\n",
       "3            2  20190704             서울           대전           84.0\n",
       "4            2  20190705             서울           대전          105.0\n",
       "...        ...       ...            ...          ...            ...\n",
       "1764         6  20190726             울산           부산           10.0\n",
       "1765         6  20190727             울산           부산            6.0\n",
       "1766         6  20190728             울산           부산           21.0\n",
       "1767         6  20190729             울산           부산           12.0\n",
       "1768         6  20190730             울산           부산           11.0\n",
       "\n",
       "[1769 rows x 5 columns]"
      ]
     },
     "execution_count": 108,
     "metadata": {},
     "output_type": "execute_result"
    }
   ],
   "source": [
    "train_raw_data"
   ]
  },
  {
   "cell_type": "code",
   "execution_count": 8,
   "metadata": {
    "colab": {
     "base_uri": "https://localhost:8080/"
    },
    "executionInfo": {
     "elapsed": 1,
     "status": "ok",
     "timestamp": 1694574043578,
     "user": {
      "displayName": "­김당찬 / 학생 / 통계학과",
      "userId": "10984925773876423229"
     },
     "user_tz": -540
    },
    "id": "AHNOR2Z_d5kN",
    "outputId": "52169a34-15e3-4f9a-a8ea-f24da73b8f57",
    "scrolled": true,
    "slideshow": {
     "slide_type": "subslide"
    }
   },
   "outputs": [
    {
     "data": {
      "text/plain": [
       "0       2\n",
       "1       2\n",
       "2       2\n",
       "3       2\n",
       "4       2\n",
       "       ..\n",
       "1764    6\n",
       "1765    6\n",
       "1766    6\n",
       "1767    6\n",
       "1768    6\n",
       "Name: TRAIN_NO, Length: 1769, dtype: int64"
      ]
     },
     "execution_count": 8,
     "metadata": {},
     "output_type": "execute_result"
    }
   ],
   "source": [
    "train_raw_data['TRAIN_NO'] "
   ]
  },
  {
   "cell_type": "code",
   "execution_count": 9,
   "metadata": {
    "colab": {
     "base_uri": "https://localhost:8080/"
    },
    "executionInfo": {
     "elapsed": 2,
     "status": "ok",
     "timestamp": 1694574044596,
     "user": {
      "displayName": "­김당찬 / 학생 / 통계학과",
      "userId": "10984925773876423229"
     },
     "user_tz": -540
    },
    "id": "D_NmZcjGd-Rl",
    "outputId": "2b87ba5b-26c9-4102-f999-08b624e8ef8f",
    "slideshow": {
     "slide_type": "subslide"
    }
   },
   "outputs": [
    {
     "data": {
      "text/plain": [
       "array([2, 5, 6])"
      ]
     },
     "execution_count": 9,
     "metadata": {},
     "output_type": "execute_result"
    }
   ],
   "source": [
    "train_raw_data['TRAIN_NO'].unique()"
   ]
  },
  {
   "cell_type": "code",
   "execution_count": 109,
   "metadata": {
    "executionInfo": {
     "elapsed": 1,
     "status": "ok",
     "timestamp": 1694574044596,
     "user": {
      "displayName": "­김당찬 / 학생 / 통계학과",
      "userId": "10984925773876423229"
     },
     "user_tz": -540
    },
    "id": "x1CIZQw1eBLD",
    "slideshow": {
     "slide_type": "subslide"
    }
   },
   "outputs": [],
   "source": [
    "select_condition_1 = train_raw_data.TRAIN_NO == 2  #열차번호가 2번인가?\n",
    "select_condition_2 = train_raw_data.STATION_DEPART == '서울' # 출발역은 서울역인가?\n",
    "select_condition_3 = train_raw_data.STATION_ARRV == '부산' # 도착역은 부산역인가?"
   ]
  },
  {
   "cell_type": "code",
   "execution_count": 110,
   "metadata": {
    "colab": {
     "base_uri": "https://localhost:8080/"
    },
    "executionInfo": {
     "elapsed": 2,
     "status": "ok",
     "timestamp": 1694574045231,
     "user": {
      "displayName": "­김당찬 / 학생 / 통계학과",
      "userId": "10984925773876423229"
     },
     "user_tz": -540
    },
    "id": "A-rbcsrZeVya",
    "outputId": "f8a346a3-015b-474a-9774-5be9f97dc349",
    "slideshow": {
     "slide_type": "subslide"
    }
   },
   "outputs": [
    {
     "data": {
      "text/plain": [
       "0       False\n",
       "1       False\n",
       "2       False\n",
       "3       False\n",
       "4       False\n",
       "        ...  \n",
       "1764    False\n",
       "1765    False\n",
       "1766    False\n",
       "1767    False\n",
       "1768    False\n",
       "Length: 1769, dtype: bool"
      ]
     },
     "execution_count": 110,
     "metadata": {},
     "output_type": "execute_result"
    }
   ],
   "source": [
    "select_condition = select_condition_1 & select_condition_2 & select_condition_3 # 비교 연산자 & vs 논리 연산자 and\n",
    "select_condition"
   ]
  },
  {
   "cell_type": "code",
   "execution_count": 111,
   "metadata": {
    "executionInfo": {
     "elapsed": 1,
     "status": "ok",
     "timestamp": 1694574045231,
     "user": {
      "displayName": "­김당찬 / 학생 / 통계학과",
      "userId": "10984925773876423229"
     },
     "user_tz": -540
    },
    "id": "hG0dCi-CeXvC",
    "slideshow": {
     "slide_type": "subslide"
    }
   },
   "outputs": [],
   "source": [
    "train_2 = train_raw_data[ select_condition ]"
   ]
  },
  {
   "cell_type": "code",
   "execution_count": 112,
   "metadata": {
    "colab": {
     "base_uri": "https://localhost:8080/",
     "height": 990
    },
    "executionInfo": {
     "elapsed": 3,
     "status": "ok",
     "timestamp": 1694574045682,
     "user": {
      "displayName": "­김당찬 / 학생 / 통계학과",
      "userId": "10984925773876423229"
     },
     "user_tz": -540
    },
    "id": "tw8UUNdheYtC",
    "outputId": "5e482fc9-2b31-47c5-b687-481b3b4a6e58",
    "scrolled": true,
    "slideshow": {
     "slide_type": "subslide"
    }
   },
   "outputs": [
    {
     "data": {
      "text/html": [
       "<div>\n",
       "<style scoped>\n",
       "    .dataframe tbody tr th:only-of-type {\n",
       "        vertical-align: middle;\n",
       "    }\n",
       "\n",
       "    .dataframe tbody tr th {\n",
       "        vertical-align: top;\n",
       "    }\n",
       "\n",
       "    .dataframe thead th {\n",
       "        text-align: right;\n",
       "    }\n",
       "</style>\n",
       "<table border=\"1\" class=\"dataframe\">\n",
       "  <thead>\n",
       "    <tr style=\"text-align: right;\">\n",
       "      <th></th>\n",
       "      <th>TRAIN_NO</th>\n",
       "      <th>DATE</th>\n",
       "      <th>STATION_DEPART</th>\n",
       "      <th>STATION_ARRV</th>\n",
       "      <th>NUM_PASSENGER</th>\n",
       "    </tr>\n",
       "  </thead>\n",
       "  <tbody>\n",
       "    <tr>\n",
       "      <th>60</th>\n",
       "      <td>2</td>\n",
       "      <td>20190701</td>\n",
       "      <td>서울</td>\n",
       "      <td>부산</td>\n",
       "      <td>613.0</td>\n",
       "    </tr>\n",
       "    <tr>\n",
       "      <th>61</th>\n",
       "      <td>2</td>\n",
       "      <td>20190702</td>\n",
       "      <td>서울</td>\n",
       "      <td>부산</td>\n",
       "      <td>546.0</td>\n",
       "    </tr>\n",
       "    <tr>\n",
       "      <th>62</th>\n",
       "      <td>2</td>\n",
       "      <td>20190703</td>\n",
       "      <td>서울</td>\n",
       "      <td>부산</td>\n",
       "      <td>492.0</td>\n",
       "    </tr>\n",
       "    <tr>\n",
       "      <th>63</th>\n",
       "      <td>2</td>\n",
       "      <td>20190704</td>\n",
       "      <td>서울</td>\n",
       "      <td>부산</td>\n",
       "      <td>615.0</td>\n",
       "    </tr>\n",
       "    <tr>\n",
       "      <th>64</th>\n",
       "      <td>2</td>\n",
       "      <td>20190705</td>\n",
       "      <td>서울</td>\n",
       "      <td>부산</td>\n",
       "      <td>572.0</td>\n",
       "    </tr>\n",
       "    <tr>\n",
       "      <th>65</th>\n",
       "      <td>2</td>\n",
       "      <td>20190706</td>\n",
       "      <td>서울</td>\n",
       "      <td>부산</td>\n",
       "      <td>598.0</td>\n",
       "    </tr>\n",
       "    <tr>\n",
       "      <th>66</th>\n",
       "      <td>2</td>\n",
       "      <td>20190707</td>\n",
       "      <td>서울</td>\n",
       "      <td>부산</td>\n",
       "      <td>326.0</td>\n",
       "    </tr>\n",
       "    <tr>\n",
       "      <th>67</th>\n",
       "      <td>2</td>\n",
       "      <td>20190708</td>\n",
       "      <td>서울</td>\n",
       "      <td>부산</td>\n",
       "      <td>552.0</td>\n",
       "    </tr>\n",
       "    <tr>\n",
       "      <th>68</th>\n",
       "      <td>2</td>\n",
       "      <td>20190709</td>\n",
       "      <td>서울</td>\n",
       "      <td>부산</td>\n",
       "      <td>540.0</td>\n",
       "    </tr>\n",
       "    <tr>\n",
       "      <th>69</th>\n",
       "      <td>2</td>\n",
       "      <td>20190710</td>\n",
       "      <td>서울</td>\n",
       "      <td>부산</td>\n",
       "      <td>499.0</td>\n",
       "    </tr>\n",
       "    <tr>\n",
       "      <th>70</th>\n",
       "      <td>2</td>\n",
       "      <td>20190711</td>\n",
       "      <td>서울</td>\n",
       "      <td>부산</td>\n",
       "      <td>562.0</td>\n",
       "    </tr>\n",
       "    <tr>\n",
       "      <th>71</th>\n",
       "      <td>2</td>\n",
       "      <td>20190712</td>\n",
       "      <td>서울</td>\n",
       "      <td>부산</td>\n",
       "      <td>601.0</td>\n",
       "    </tr>\n",
       "    <tr>\n",
       "      <th>72</th>\n",
       "      <td>2</td>\n",
       "      <td>20190713</td>\n",
       "      <td>서울</td>\n",
       "      <td>부산</td>\n",
       "      <td>655.0</td>\n",
       "    </tr>\n",
       "    <tr>\n",
       "      <th>73</th>\n",
       "      <td>2</td>\n",
       "      <td>20190714</td>\n",
       "      <td>서울</td>\n",
       "      <td>부산</td>\n",
       "      <td>371.0</td>\n",
       "    </tr>\n",
       "    <tr>\n",
       "      <th>74</th>\n",
       "      <td>2</td>\n",
       "      <td>20190715</td>\n",
       "      <td>서울</td>\n",
       "      <td>부산</td>\n",
       "      <td>557.0</td>\n",
       "    </tr>\n",
       "    <tr>\n",
       "      <th>75</th>\n",
       "      <td>2</td>\n",
       "      <td>20190716</td>\n",
       "      <td>서울</td>\n",
       "      <td>부산</td>\n",
       "      <td>525.0</td>\n",
       "    </tr>\n",
       "    <tr>\n",
       "      <th>76</th>\n",
       "      <td>2</td>\n",
       "      <td>20190717</td>\n",
       "      <td>서울</td>\n",
       "      <td>부산</td>\n",
       "      <td>557.0</td>\n",
       "    </tr>\n",
       "    <tr>\n",
       "      <th>77</th>\n",
       "      <td>2</td>\n",
       "      <td>20190718</td>\n",
       "      <td>서울</td>\n",
       "      <td>부산</td>\n",
       "      <td>585.0</td>\n",
       "    </tr>\n",
       "    <tr>\n",
       "      <th>78</th>\n",
       "      <td>2</td>\n",
       "      <td>20190719</td>\n",
       "      <td>서울</td>\n",
       "      <td>부산</td>\n",
       "      <td>593.0</td>\n",
       "    </tr>\n",
       "    <tr>\n",
       "      <th>79</th>\n",
       "      <td>2</td>\n",
       "      <td>20190720</td>\n",
       "      <td>서울</td>\n",
       "      <td>부산</td>\n",
       "      <td>620.0</td>\n",
       "    </tr>\n",
       "    <tr>\n",
       "      <th>80</th>\n",
       "      <td>2</td>\n",
       "      <td>20190721</td>\n",
       "      <td>서울</td>\n",
       "      <td>부산</td>\n",
       "      <td>355.0</td>\n",
       "    </tr>\n",
       "    <tr>\n",
       "      <th>81</th>\n",
       "      <td>2</td>\n",
       "      <td>20190722</td>\n",
       "      <td>서울</td>\n",
       "      <td>부산</td>\n",
       "      <td>548.0</td>\n",
       "    </tr>\n",
       "    <tr>\n",
       "      <th>82</th>\n",
       "      <td>2</td>\n",
       "      <td>20190723</td>\n",
       "      <td>서울</td>\n",
       "      <td>부산</td>\n",
       "      <td>557.0</td>\n",
       "    </tr>\n",
       "    <tr>\n",
       "      <th>83</th>\n",
       "      <td>2</td>\n",
       "      <td>20190724</td>\n",
       "      <td>서울</td>\n",
       "      <td>부산</td>\n",
       "      <td>550.0</td>\n",
       "    </tr>\n",
       "    <tr>\n",
       "      <th>84</th>\n",
       "      <td>2</td>\n",
       "      <td>20190725</td>\n",
       "      <td>서울</td>\n",
       "      <td>부산</td>\n",
       "      <td>593.0</td>\n",
       "    </tr>\n",
       "    <tr>\n",
       "      <th>85</th>\n",
       "      <td>2</td>\n",
       "      <td>20190726</td>\n",
       "      <td>서울</td>\n",
       "      <td>부산</td>\n",
       "      <td>551.0</td>\n",
       "    </tr>\n",
       "    <tr>\n",
       "      <th>86</th>\n",
       "      <td>2</td>\n",
       "      <td>20190727</td>\n",
       "      <td>서울</td>\n",
       "      <td>부산</td>\n",
       "      <td>615.0</td>\n",
       "    </tr>\n",
       "    <tr>\n",
       "      <th>87</th>\n",
       "      <td>2</td>\n",
       "      <td>20190728</td>\n",
       "      <td>서울</td>\n",
       "      <td>부산</td>\n",
       "      <td>530.0</td>\n",
       "    </tr>\n",
       "    <tr>\n",
       "      <th>88</th>\n",
       "      <td>2</td>\n",
       "      <td>20190729</td>\n",
       "      <td>서울</td>\n",
       "      <td>부산</td>\n",
       "      <td>589.0</td>\n",
       "    </tr>\n",
       "    <tr>\n",
       "      <th>89</th>\n",
       "      <td>2</td>\n",
       "      <td>20190730</td>\n",
       "      <td>서울</td>\n",
       "      <td>부산</td>\n",
       "      <td>503.0</td>\n",
       "    </tr>\n",
       "  </tbody>\n",
       "</table>\n",
       "</div>"
      ],
      "text/plain": [
       "    TRAIN_NO      DATE STATION_DEPART STATION_ARRV  NUM_PASSENGER\n",
       "60         2  20190701             서울           부산          613.0\n",
       "61         2  20190702             서울           부산          546.0\n",
       "62         2  20190703             서울           부산          492.0\n",
       "63         2  20190704             서울           부산          615.0\n",
       "64         2  20190705             서울           부산          572.0\n",
       "65         2  20190706             서울           부산          598.0\n",
       "66         2  20190707             서울           부산          326.0\n",
       "67         2  20190708             서울           부산          552.0\n",
       "68         2  20190709             서울           부산          540.0\n",
       "69         2  20190710             서울           부산          499.0\n",
       "70         2  20190711             서울           부산          562.0\n",
       "71         2  20190712             서울           부산          601.0\n",
       "72         2  20190713             서울           부산          655.0\n",
       "73         2  20190714             서울           부산          371.0\n",
       "74         2  20190715             서울           부산          557.0\n",
       "75         2  20190716             서울           부산          525.0\n",
       "76         2  20190717             서울           부산          557.0\n",
       "77         2  20190718             서울           부산          585.0\n",
       "78         2  20190719             서울           부산          593.0\n",
       "79         2  20190720             서울           부산          620.0\n",
       "80         2  20190721             서울           부산          355.0\n",
       "81         2  20190722             서울           부산          548.0\n",
       "82         2  20190723             서울           부산          557.0\n",
       "83         2  20190724             서울           부산          550.0\n",
       "84         2  20190725             서울           부산          593.0\n",
       "85         2  20190726             서울           부산          551.0\n",
       "86         2  20190727             서울           부산          615.0\n",
       "87         2  20190728             서울           부산          530.0\n",
       "88         2  20190729             서울           부산          589.0\n",
       "89         2  20190730             서울           부산          503.0"
      ]
     },
     "execution_count": 112,
     "metadata": {},
     "output_type": "execute_result"
    }
   ],
   "source": [
    "train_2"
   ]
  },
  {
   "cell_type": "markdown",
   "metadata": {
    "id": "rBuBFQTHz97G",
    "slideshow": {
     "slide_type": "slide"
    }
   },
   "source": [
    "# 데이터 프레임 plotting\n",
    "\n",
    "자세한 시각화 내용은 6장에서 다루도록 하겠습니다."
   ]
  },
  {
   "cell_type": "code",
   "execution_count": 113,
   "metadata": {
    "executionInfo": {
     "elapsed": 2,
     "status": "ok",
     "timestamp": 1694574046238,
     "user": {
      "displayName": "­김당찬 / 학생 / 통계학과",
      "userId": "10984925773876423229"
     },
     "user_tz": -540
    },
    "id": "gddd-hZGslX0",
    "slideshow": {
     "slide_type": "subslide"
    }
   },
   "outputs": [],
   "source": [
    "import matplotlib.pyplot as plt"
   ]
  },
  {
   "cell_type": "code",
   "execution_count": 114,
   "metadata": {
    "colab": {
     "base_uri": "https://localhost:8080/",
     "height": 467
    },
    "executionInfo": {
     "elapsed": 684,
     "status": "ok",
     "timestamp": 1694574046920,
     "user": {
      "displayName": "­김당찬 / 학생 / 통계학과",
      "userId": "10984925773876423229"
     },
     "user_tz": -540
    },
    "id": "6MASXIbnefKa",
    "outputId": "b0ac605c-106a-4970-a2c1-b94c30a03622",
    "slideshow": {
     "slide_type": "subslide"
    }
   },
   "outputs": [
    {
     "data": {
      "text/plain": [
       "<Axes: xlabel='DATE'>"
      ]
     },
     "execution_count": 114,
     "metadata": {},
     "output_type": "execute_result"
    },
    {
     "data": {
      "image/png": "[encoded data removed]",
      "text/plain": [
       "<Figure size 640x480 with 1 Axes>"
      ]
     },
     "metadata": {},
     "output_type": "display_data"
    }
   ],
   "source": [
    "train_2.plot(x='DATE', y=\"NUM_PASSENGER\")"
   ]
  },
  {
   "cell_type": "markdown",
   "metadata": {
    "id": "kjPD0XRk0BJ4",
    "slideshow": {
     "slide_type": "slide"
    }
   },
   "source": [
    "# 날짜 타입 바꾸기"
   ]
  },
  {
   "cell_type": "code",
   "execution_count": 115,
   "metadata": {
    "colab": {
     "base_uri": "https://localhost:8080/",
     "height": 1000
    },
    "executionInfo": {
     "elapsed": 6,
     "status": "ok",
     "timestamp": 1694574047426,
     "user": {
      "displayName": "­김당찬 / 학생 / 통계학과",
      "userId": "10984925773876423229"
     },
     "user_tz": -540
    },
    "id": "H2ePQLrfslX0",
    "outputId": "94ece65c-117c-4ffa-ec20-4b56a20eab69",
    "scrolled": true,
    "slideshow": {
     "slide_type": "subslide"
    }
   },
   "outputs": [
    {
     "name": "stderr",
     "output_type": "stream",
     "text": [
      "/var/folders/6r/ndnspf4n6n7_m8rb9bs7qdvr0000gp/T/ipykernel_38065/1680366998.py:1: SettingWithCopyWarning: \n",
      "A value is trying to be set on a copy of a slice from a DataFrame.\n",
      "Try using .loc[row_indexer,col_indexer] = value instead\n",
      "\n",
      "See the caveats in the documentation: https://pandas.pydata.org/pandas-docs/stable/user_guide/indexing.html#returning-a-view-versus-a-copy\n",
      "  train_2['DATE2'] = pd.to_datetime(train_2['DATE'], format='%Y%m%d')\n"
     ]
    },
    {
     "data": {
      "text/html": [
       "<div>\n",
       "<style scoped>\n",
       "    .dataframe tbody tr th:only-of-type {\n",
       "        vertical-align: middle;\n",
       "    }\n",
       "\n",
       "    .dataframe tbody tr th {\n",
       "        vertical-align: top;\n",
       "    }\n",
       "\n",
       "    .dataframe thead th {\n",
       "        text-align: right;\n",
       "    }\n",
       "</style>\n",
       "<table border=\"1\" class=\"dataframe\">\n",
       "  <thead>\n",
       "    <tr style=\"text-align: right;\">\n",
       "      <th></th>\n",
       "      <th>TRAIN_NO</th>\n",
       "      <th>DATE</th>\n",
       "      <th>STATION_DEPART</th>\n",
       "      <th>STATION_ARRV</th>\n",
       "      <th>NUM_PASSENGER</th>\n",
       "      <th>DATE2</th>\n",
       "    </tr>\n",
       "  </thead>\n",
       "  <tbody>\n",
       "    <tr>\n",
       "      <th>60</th>\n",
       "      <td>2</td>\n",
       "      <td>20190701</td>\n",
       "      <td>서울</td>\n",
       "      <td>부산</td>\n",
       "      <td>613.0</td>\n",
       "      <td>2019-07-01</td>\n",
       "    </tr>\n",
       "    <tr>\n",
       "      <th>61</th>\n",
       "      <td>2</td>\n",
       "      <td>20190702</td>\n",
       "      <td>서울</td>\n",
       "      <td>부산</td>\n",
       "      <td>546.0</td>\n",
       "      <td>2019-07-02</td>\n",
       "    </tr>\n",
       "    <tr>\n",
       "      <th>62</th>\n",
       "      <td>2</td>\n",
       "      <td>20190703</td>\n",
       "      <td>서울</td>\n",
       "      <td>부산</td>\n",
       "      <td>492.0</td>\n",
       "      <td>2019-07-03</td>\n",
       "    </tr>\n",
       "    <tr>\n",
       "      <th>63</th>\n",
       "      <td>2</td>\n",
       "      <td>20190704</td>\n",
       "      <td>서울</td>\n",
       "      <td>부산</td>\n",
       "      <td>615.0</td>\n",
       "      <td>2019-07-04</td>\n",
       "    </tr>\n",
       "    <tr>\n",
       "      <th>64</th>\n",
       "      <td>2</td>\n",
       "      <td>20190705</td>\n",
       "      <td>서울</td>\n",
       "      <td>부산</td>\n",
       "      <td>572.0</td>\n",
       "      <td>2019-07-05</td>\n",
       "    </tr>\n",
       "    <tr>\n",
       "      <th>65</th>\n",
       "      <td>2</td>\n",
       "      <td>20190706</td>\n",
       "      <td>서울</td>\n",
       "      <td>부산</td>\n",
       "      <td>598.0</td>\n",
       "      <td>2019-07-06</td>\n",
       "    </tr>\n",
       "    <tr>\n",
       "      <th>66</th>\n",
       "      <td>2</td>\n",
       "      <td>20190707</td>\n",
       "      <td>서울</td>\n",
       "      <td>부산</td>\n",
       "      <td>326.0</td>\n",
       "      <td>2019-07-07</td>\n",
       "    </tr>\n",
       "    <tr>\n",
       "      <th>67</th>\n",
       "      <td>2</td>\n",
       "      <td>20190708</td>\n",
       "      <td>서울</td>\n",
       "      <td>부산</td>\n",
       "      <td>552.0</td>\n",
       "      <td>2019-07-08</td>\n",
       "    </tr>\n",
       "    <tr>\n",
       "      <th>68</th>\n",
       "      <td>2</td>\n",
       "      <td>20190709</td>\n",
       "      <td>서울</td>\n",
       "      <td>부산</td>\n",
       "      <td>540.0</td>\n",
       "      <td>2019-07-09</td>\n",
       "    </tr>\n",
       "    <tr>\n",
       "      <th>69</th>\n",
       "      <td>2</td>\n",
       "      <td>20190710</td>\n",
       "      <td>서울</td>\n",
       "      <td>부산</td>\n",
       "      <td>499.0</td>\n",
       "      <td>2019-07-10</td>\n",
       "    </tr>\n",
       "    <tr>\n",
       "      <th>70</th>\n",
       "      <td>2</td>\n",
       "      <td>20190711</td>\n",
       "      <td>서울</td>\n",
       "      <td>부산</td>\n",
       "      <td>562.0</td>\n",
       "      <td>2019-07-11</td>\n",
       "    </tr>\n",
       "    <tr>\n",
       "      <th>71</th>\n",
       "      <td>2</td>\n",
       "      <td>20190712</td>\n",
       "      <td>서울</td>\n",
       "      <td>부산</td>\n",
       "      <td>601.0</td>\n",
       "      <td>2019-07-12</td>\n",
       "    </tr>\n",
       "    <tr>\n",
       "      <th>72</th>\n",
       "      <td>2</td>\n",
       "      <td>20190713</td>\n",
       "      <td>서울</td>\n",
       "      <td>부산</td>\n",
       "      <td>655.0</td>\n",
       "      <td>2019-07-13</td>\n",
       "    </tr>\n",
       "    <tr>\n",
       "      <th>73</th>\n",
       "      <td>2</td>\n",
       "      <td>20190714</td>\n",
       "      <td>서울</td>\n",
       "      <td>부산</td>\n",
       "      <td>371.0</td>\n",
       "      <td>2019-07-14</td>\n",
       "    </tr>\n",
       "    <tr>\n",
       "      <th>74</th>\n",
       "      <td>2</td>\n",
       "      <td>20190715</td>\n",
       "      <td>서울</td>\n",
       "      <td>부산</td>\n",
       "      <td>557.0</td>\n",
       "      <td>2019-07-15</td>\n",
       "    </tr>\n",
       "    <tr>\n",
       "      <th>75</th>\n",
       "      <td>2</td>\n",
       "      <td>20190716</td>\n",
       "      <td>서울</td>\n",
       "      <td>부산</td>\n",
       "      <td>525.0</td>\n",
       "      <td>2019-07-16</td>\n",
       "    </tr>\n",
       "    <tr>\n",
       "      <th>76</th>\n",
       "      <td>2</td>\n",
       "      <td>20190717</td>\n",
       "      <td>서울</td>\n",
       "      <td>부산</td>\n",
       "      <td>557.0</td>\n",
       "      <td>2019-07-17</td>\n",
       "    </tr>\n",
       "    <tr>\n",
       "      <th>77</th>\n",
       "      <td>2</td>\n",
       "      <td>20190718</td>\n",
       "      <td>서울</td>\n",
       "      <td>부산</td>\n",
       "      <td>585.0</td>\n",
       "      <td>2019-07-18</td>\n",
       "    </tr>\n",
       "    <tr>\n",
       "      <th>78</th>\n",
       "      <td>2</td>\n",
       "      <td>20190719</td>\n",
       "      <td>서울</td>\n",
       "      <td>부산</td>\n",
       "      <td>593.0</td>\n",
       "      <td>2019-07-19</td>\n",
       "    </tr>\n",
       "    <tr>\n",
       "      <th>79</th>\n",
       "      <td>2</td>\n",
       "      <td>20190720</td>\n",
       "      <td>서울</td>\n",
       "      <td>부산</td>\n",
       "      <td>620.0</td>\n",
       "      <td>2019-07-20</td>\n",
       "    </tr>\n",
       "    <tr>\n",
       "      <th>80</th>\n",
       "      <td>2</td>\n",
       "      <td>20190721</td>\n",
       "      <td>서울</td>\n",
       "      <td>부산</td>\n",
       "      <td>355.0</td>\n",
       "      <td>2019-07-21</td>\n",
       "    </tr>\n",
       "    <tr>\n",
       "      <th>81</th>\n",
       "      <td>2</td>\n",
       "      <td>20190722</td>\n",
       "      <td>서울</td>\n",
       "      <td>부산</td>\n",
       "      <td>548.0</td>\n",
       "      <td>2019-07-22</td>\n",
       "    </tr>\n",
       "    <tr>\n",
       "      <th>82</th>\n",
       "      <td>2</td>\n",
       "      <td>20190723</td>\n",
       "      <td>서울</td>\n",
       "      <td>부산</td>\n",
       "      <td>557.0</td>\n",
       "      <td>2019-07-23</td>\n",
       "    </tr>\n",
       "    <tr>\n",
       "      <th>83</th>\n",
       "      <td>2</td>\n",
       "      <td>20190724</td>\n",
       "      <td>서울</td>\n",
       "      <td>부산</td>\n",
       "      <td>550.0</td>\n",
       "      <td>2019-07-24</td>\n",
       "    </tr>\n",
       "    <tr>\n",
       "      <th>84</th>\n",
       "      <td>2</td>\n",
       "      <td>20190725</td>\n",
       "      <td>서울</td>\n",
       "      <td>부산</td>\n",
       "      <td>593.0</td>\n",
       "      <td>2019-07-25</td>\n",
       "    </tr>\n",
       "    <tr>\n",
       "      <th>85</th>\n",
       "      <td>2</td>\n",
       "      <td>20190726</td>\n",
       "      <td>서울</td>\n",
       "      <td>부산</td>\n",
       "      <td>551.0</td>\n",
       "      <td>2019-07-26</td>\n",
       "    </tr>\n",
       "    <tr>\n",
       "      <th>86</th>\n",
       "      <td>2</td>\n",
       "      <td>20190727</td>\n",
       "      <td>서울</td>\n",
       "      <td>부산</td>\n",
       "      <td>615.0</td>\n",
       "      <td>2019-07-27</td>\n",
       "    </tr>\n",
       "    <tr>\n",
       "      <th>87</th>\n",
       "      <td>2</td>\n",
       "      <td>20190728</td>\n",
       "      <td>서울</td>\n",
       "      <td>부산</td>\n",
       "      <td>530.0</td>\n",
       "      <td>2019-07-28</td>\n",
       "    </tr>\n",
       "    <tr>\n",
       "      <th>88</th>\n",
       "      <td>2</td>\n",
       "      <td>20190729</td>\n",
       "      <td>서울</td>\n",
       "      <td>부산</td>\n",
       "      <td>589.0</td>\n",
       "      <td>2019-07-29</td>\n",
       "    </tr>\n",
       "    <tr>\n",
       "      <th>89</th>\n",
       "      <td>2</td>\n",
       "      <td>20190730</td>\n",
       "      <td>서울</td>\n",
       "      <td>부산</td>\n",
       "      <td>503.0</td>\n",
       "      <td>2019-07-30</td>\n",
       "    </tr>\n",
       "  </tbody>\n",
       "</table>\n",
       "</div>"
      ],
      "text/plain": [
       "    TRAIN_NO      DATE STATION_DEPART STATION_ARRV  NUM_PASSENGER      DATE2\n",
       "60         2  20190701             서울           부산          613.0 2019-07-01\n",
       "61         2  20190702             서울           부산          546.0 2019-07-02\n",
       "62         2  20190703             서울           부산          492.0 2019-07-03\n",
       "63         2  20190704             서울           부산          615.0 2019-07-04\n",
       "64         2  20190705             서울           부산          572.0 2019-07-05\n",
       "65         2  20190706             서울           부산          598.0 2019-07-06\n",
       "66         2  20190707             서울           부산          326.0 2019-07-07\n",
       "67         2  20190708             서울           부산          552.0 2019-07-08\n",
       "68         2  20190709             서울           부산          540.0 2019-07-09\n",
       "69         2  20190710             서울           부산          499.0 2019-07-10\n",
       "70         2  20190711             서울           부산          562.0 2019-07-11\n",
       "71         2  20190712             서울           부산          601.0 2019-07-12\n",
       "72         2  20190713             서울           부산          655.0 2019-07-13\n",
       "73         2  20190714             서울           부산          371.0 2019-07-14\n",
       "74         2  20190715             서울           부산          557.0 2019-07-15\n",
       "75         2  20190716             서울           부산          525.0 2019-07-16\n",
       "76         2  20190717             서울           부산          557.0 2019-07-17\n",
       "77         2  20190718             서울           부산          585.0 2019-07-18\n",
       "78         2  20190719             서울           부산          593.0 2019-07-19\n",
       "79         2  20190720             서울           부산          620.0 2019-07-20\n",
       "80         2  20190721             서울           부산          355.0 2019-07-21\n",
       "81         2  20190722             서울           부산          548.0 2019-07-22\n",
       "82         2  20190723             서울           부산          557.0 2019-07-23\n",
       "83         2  20190724             서울           부산          550.0 2019-07-24\n",
       "84         2  20190725             서울           부산          593.0 2019-07-25\n",
       "85         2  20190726             서울           부산          551.0 2019-07-26\n",
       "86         2  20190727             서울           부산          615.0 2019-07-27\n",
       "87         2  20190728             서울           부산          530.0 2019-07-28\n",
       "88         2  20190729             서울           부산          589.0 2019-07-29\n",
       "89         2  20190730             서울           부산          503.0 2019-07-30"
      ]
     },
     "execution_count": 115,
     "metadata": {},
     "output_type": "execute_result"
    }
   ],
   "source": [
    "train_2['DATE2'] = pd.to_datetime(train_2['DATE'], format='%Y%m%d')\n",
    "train_2"
   ]
  },
  {
   "cell_type": "code",
   "execution_count": 116,
   "metadata": {
    "executionInfo": {
     "elapsed": 4,
     "status": "ok",
     "timestamp": 1694574047426,
     "user": {
      "displayName": "­김당찬 / 학생 / 통계학과",
      "userId": "10984925773876423229"
     },
     "user_tz": -540
    },
    "id": "hTkJ3m2mizLk",
    "slideshow": {
     "slide_type": "subslide"
    }
   },
   "outputs": [],
   "source": [
    "train_raw_data['DATE2'] = pd.to_datetime(train_raw_data['DATE'], format='%Y%m%d')"
   ]
  },
  {
   "cell_type": "code",
   "execution_count": 117,
   "metadata": {
    "colab": {
     "base_uri": "https://localhost:8080/",
     "height": 516
    },
    "executionInfo": {
     "elapsed": 569,
     "status": "ok",
     "timestamp": 1694574047991,
     "user": {
      "displayName": "­김당찬 / 학생 / 통계학과",
      "userId": "10984925773876423229"
     },
     "user_tz": -540
    },
    "id": "BIWZyNocW-XJ",
    "outputId": "543f49f5-d3fa-4eac-b75a-ca50c5225b9c",
    "slideshow": {
     "slide_type": "subslide"
    }
   },
   "outputs": [
    {
     "data": {
      "text/plain": [
       "<Axes: xlabel='DATE2'>"
      ]
     },
     "execution_count": 117,
     "metadata": {},
     "output_type": "execute_result"
    },
    {
     "data": {
      "image/png": "[encoded data removed]",
      "text/plain": [
       "<Figure size 640x480 with 1 Axes>"
      ]
     },
     "metadata": {},
     "output_type": "display_data"
    }
   ],
   "source": [
    "train_2.plot(x='DATE2', y=\"NUM_PASSENGER\")"
   ]
  },
  {
   "cell_type": "markdown",
   "metadata": {
    "id": "pW6iVvhU0DXG",
    "slideshow": {
     "slide_type": "slide"
    }
   },
   "source": [
    "# 요일 column 생성"
   ]
  },
  {
   "cell_type": "code",
   "execution_count": 118,
   "metadata": {
    "executionInfo": {
     "elapsed": 1,
     "status": "ok",
     "timestamp": 1694574049246,
     "user": {
      "displayName": "­김당찬 / 학생 / 통계학과",
      "userId": "10984925773876423229"
     },
     "user_tz": -540
    },
    "id": "fKC58Xq-slX0",
    "slideshow": {
     "slide_type": "subslide"
    }
   },
   "outputs": [],
   "source": [
    "train_raw_data['DAYOFWEEK'] = train_raw_data['DATE2'].dt.dayofweek"
   ]
  },
  {
   "cell_type": "code",
   "execution_count": 119,
   "metadata": {
    "colab": {
     "base_uri": "https://localhost:8080/",
     "height": 423
    },
    "executionInfo": {
     "elapsed": 2,
     "status": "ok",
     "timestamp": 1694574049714,
     "user": {
      "displayName": "­김당찬 / 학생 / 통계학과",
      "userId": "10984925773876423229"
     },
     "user_tz": -540
    },
    "id": "z8tdfn1LetBs",
    "outputId": "b199539c-0116-4c84-b54b-bb522df21b6c",
    "slideshow": {
     "slide_type": "subslide"
    }
   },
   "outputs": [
    {
     "data": {
      "text/html": [
       "<div>\n",
       "<style scoped>\n",
       "    .dataframe tbody tr th:only-of-type {\n",
       "        vertical-align: middle;\n",
       "    }\n",
       "\n",
       "    .dataframe tbody tr th {\n",
       "        vertical-align: top;\n",
       "    }\n",
       "\n",
       "    .dataframe thead th {\n",
       "        text-align: right;\n",
       "    }\n",
       "</style>\n",
       "<table border=\"1\" class=\"dataframe\">\n",
       "  <thead>\n",
       "    <tr style=\"text-align: right;\">\n",
       "      <th></th>\n",
       "      <th>TRAIN_NO</th>\n",
       "      <th>DATE</th>\n",
       "      <th>STATION_DEPART</th>\n",
       "      <th>STATION_ARRV</th>\n",
       "      <th>NUM_PASSENGER</th>\n",
       "      <th>DATE2</th>\n",
       "      <th>DAYOFWEEK</th>\n",
       "    </tr>\n",
       "  </thead>\n",
       "  <tbody>\n",
       "    <tr>\n",
       "      <th>0</th>\n",
       "      <td>2</td>\n",
       "      <td>20190701</td>\n",
       "      <td>서울</td>\n",
       "      <td>대전</td>\n",
       "      <td>106.0</td>\n",
       "      <td>2019-07-01</td>\n",
       "      <td>0</td>\n",
       "    </tr>\n",
       "    <tr>\n",
       "      <th>1</th>\n",
       "      <td>2</td>\n",
       "      <td>20190702</td>\n",
       "      <td>서울</td>\n",
       "      <td>대전</td>\n",
       "      <td>113.0</td>\n",
       "      <td>2019-07-02</td>\n",
       "      <td>1</td>\n",
       "    </tr>\n",
       "    <tr>\n",
       "      <th>2</th>\n",
       "      <td>2</td>\n",
       "      <td>20190703</td>\n",
       "      <td>서울</td>\n",
       "      <td>대전</td>\n",
       "      <td>146.0</td>\n",
       "      <td>2019-07-03</td>\n",
       "      <td>2</td>\n",
       "    </tr>\n",
       "    <tr>\n",
       "      <th>3</th>\n",
       "      <td>2</td>\n",
       "      <td>20190704</td>\n",
       "      <td>서울</td>\n",
       "      <td>대전</td>\n",
       "      <td>84.0</td>\n",
       "      <td>2019-07-04</td>\n",
       "      <td>3</td>\n",
       "    </tr>\n",
       "    <tr>\n",
       "      <th>4</th>\n",
       "      <td>2</td>\n",
       "      <td>20190705</td>\n",
       "      <td>서울</td>\n",
       "      <td>대전</td>\n",
       "      <td>105.0</td>\n",
       "      <td>2019-07-05</td>\n",
       "      <td>4</td>\n",
       "    </tr>\n",
       "    <tr>\n",
       "      <th>...</th>\n",
       "      <td>...</td>\n",
       "      <td>...</td>\n",
       "      <td>...</td>\n",
       "      <td>...</td>\n",
       "      <td>...</td>\n",
       "      <td>...</td>\n",
       "      <td>...</td>\n",
       "    </tr>\n",
       "    <tr>\n",
       "      <th>1764</th>\n",
       "      <td>6</td>\n",
       "      <td>20190726</td>\n",
       "      <td>울산</td>\n",
       "      <td>부산</td>\n",
       "      <td>10.0</td>\n",
       "      <td>2019-07-26</td>\n",
       "      <td>4</td>\n",
       "    </tr>\n",
       "    <tr>\n",
       "      <th>1765</th>\n",
       "      <td>6</td>\n",
       "      <td>20190727</td>\n",
       "      <td>울산</td>\n",
       "      <td>부산</td>\n",
       "      <td>6.0</td>\n",
       "      <td>2019-07-27</td>\n",
       "      <td>5</td>\n",
       "    </tr>\n",
       "    <tr>\n",
       "      <th>1766</th>\n",
       "      <td>6</td>\n",
       "      <td>20190728</td>\n",
       "      <td>울산</td>\n",
       "      <td>부산</td>\n",
       "      <td>21.0</td>\n",
       "      <td>2019-07-28</td>\n",
       "      <td>6</td>\n",
       "    </tr>\n",
       "    <tr>\n",
       "      <th>1767</th>\n",
       "      <td>6</td>\n",
       "      <td>20190729</td>\n",
       "      <td>울산</td>\n",
       "      <td>부산</td>\n",
       "      <td>12.0</td>\n",
       "      <td>2019-07-29</td>\n",
       "      <td>0</td>\n",
       "    </tr>\n",
       "    <tr>\n",
       "      <th>1768</th>\n",
       "      <td>6</td>\n",
       "      <td>20190730</td>\n",
       "      <td>울산</td>\n",
       "      <td>부산</td>\n",
       "      <td>11.0</td>\n",
       "      <td>2019-07-30</td>\n",
       "      <td>1</td>\n",
       "    </tr>\n",
       "  </tbody>\n",
       "</table>\n",
       "<p>1769 rows × 7 columns</p>\n",
       "</div>"
      ],
      "text/plain": [
       "      TRAIN_NO      DATE STATION_DEPART STATION_ARRV  NUM_PASSENGER  \\\n",
       "0            2  20190701             서울           대전          106.0   \n",
       "1            2  20190702             서울           대전          113.0   \n",
       "2            2  20190703             서울           대전          146.0   \n",
       "3            2  20190704             서울           대전           84.0   \n",
       "4            2  20190705             서울           대전          105.0   \n",
       "...        ...       ...            ...          ...            ...   \n",
       "1764         6  20190726             울산           부산           10.0   \n",
       "1765         6  20190727             울산           부산            6.0   \n",
       "1766         6  20190728             울산           부산           21.0   \n",
       "1767         6  20190729             울산           부산           12.0   \n",
       "1768         6  20190730             울산           부산           11.0   \n",
       "\n",
       "          DATE2  DAYOFWEEK  \n",
       "0    2019-07-01          0  \n",
       "1    2019-07-02          1  \n",
       "2    2019-07-03          2  \n",
       "3    2019-07-04          3  \n",
       "4    2019-07-05          4  \n",
       "...         ...        ...  \n",
       "1764 2019-07-26          4  \n",
       "1765 2019-07-27          5  \n",
       "1766 2019-07-28          6  \n",
       "1767 2019-07-29          0  \n",
       "1768 2019-07-30          1  \n",
       "\n",
       "[1769 rows x 7 columns]"
      ]
     },
     "execution_count": 119,
     "metadata": {},
     "output_type": "execute_result"
    }
   ],
   "source": [
    "train_raw_data"
   ]
  },
  {
   "cell_type": "code",
   "execution_count": 120,
   "metadata": {
    "executionInfo": {
     "elapsed": 2,
     "status": "ok",
     "timestamp": 1694574050366,
     "user": {
      "displayName": "­김당찬 / 학생 / 통계학과",
      "userId": "10984925773876423229"
     },
     "user_tz": -540
    },
    "id": "WOxQY-XveuBK",
    "slideshow": {
     "slide_type": "subslide"
    }
   },
   "outputs": [],
   "source": [
    "train_group_data = train_raw_data[['STATION_DEPART','STATION_ARRV','DAYOFWEEK','NUM_PASSENGER']]"
   ]
  },
  {
   "cell_type": "code",
   "execution_count": 121,
   "metadata": {
    "colab": {
     "base_uri": "https://localhost:8080/",
     "height": 423
    },
    "executionInfo": {
     "elapsed": 441,
     "status": "ok",
     "timestamp": 1694574050806,
     "user": {
      "displayName": "­김당찬 / 학생 / 통계학과",
      "userId": "10984925773876423229"
     },
     "user_tz": -540
    },
    "id": "WDIl-Qdge6Cv",
    "outputId": "445ec73a-713e-437a-f0f4-19738a9de47e",
    "scrolled": true,
    "slideshow": {
     "slide_type": "subslide"
    }
   },
   "outputs": [
    {
     "data": {
      "text/html": [
       "<div>\n",
       "<style scoped>\n",
       "    .dataframe tbody tr th:only-of-type {\n",
       "        vertical-align: middle;\n",
       "    }\n",
       "\n",
       "    .dataframe tbody tr th {\n",
       "        vertical-align: top;\n",
       "    }\n",
       "\n",
       "    .dataframe thead th {\n",
       "        text-align: right;\n",
       "    }\n",
       "</style>\n",
       "<table border=\"1\" class=\"dataframe\">\n",
       "  <thead>\n",
       "    <tr style=\"text-align: right;\">\n",
       "      <th></th>\n",
       "      <th>STATION_DEPART</th>\n",
       "      <th>STATION_ARRV</th>\n",
       "      <th>DAYOFWEEK</th>\n",
       "      <th>NUM_PASSENGER</th>\n",
       "    </tr>\n",
       "  </thead>\n",
       "  <tbody>\n",
       "    <tr>\n",
       "      <th>0</th>\n",
       "      <td>서울</td>\n",
       "      <td>대전</td>\n",
       "      <td>0</td>\n",
       "      <td>106.0</td>\n",
       "    </tr>\n",
       "    <tr>\n",
       "      <th>1</th>\n",
       "      <td>서울</td>\n",
       "      <td>대전</td>\n",
       "      <td>1</td>\n",
       "      <td>113.0</td>\n",
       "    </tr>\n",
       "    <tr>\n",
       "      <th>2</th>\n",
       "      <td>서울</td>\n",
       "      <td>대전</td>\n",
       "      <td>2</td>\n",
       "      <td>146.0</td>\n",
       "    </tr>\n",
       "    <tr>\n",
       "      <th>3</th>\n",
       "      <td>서울</td>\n",
       "      <td>대전</td>\n",
       "      <td>3</td>\n",
       "      <td>84.0</td>\n",
       "    </tr>\n",
       "    <tr>\n",
       "      <th>4</th>\n",
       "      <td>서울</td>\n",
       "      <td>대전</td>\n",
       "      <td>4</td>\n",
       "      <td>105.0</td>\n",
       "    </tr>\n",
       "    <tr>\n",
       "      <th>...</th>\n",
       "      <td>...</td>\n",
       "      <td>...</td>\n",
       "      <td>...</td>\n",
       "      <td>...</td>\n",
       "    </tr>\n",
       "    <tr>\n",
       "      <th>1764</th>\n",
       "      <td>울산</td>\n",
       "      <td>부산</td>\n",
       "      <td>4</td>\n",
       "      <td>10.0</td>\n",
       "    </tr>\n",
       "    <tr>\n",
       "      <th>1765</th>\n",
       "      <td>울산</td>\n",
       "      <td>부산</td>\n",
       "      <td>5</td>\n",
       "      <td>6.0</td>\n",
       "    </tr>\n",
       "    <tr>\n",
       "      <th>1766</th>\n",
       "      <td>울산</td>\n",
       "      <td>부산</td>\n",
       "      <td>6</td>\n",
       "      <td>21.0</td>\n",
       "    </tr>\n",
       "    <tr>\n",
       "      <th>1767</th>\n",
       "      <td>울산</td>\n",
       "      <td>부산</td>\n",
       "      <td>0</td>\n",
       "      <td>12.0</td>\n",
       "    </tr>\n",
       "    <tr>\n",
       "      <th>1768</th>\n",
       "      <td>울산</td>\n",
       "      <td>부산</td>\n",
       "      <td>1</td>\n",
       "      <td>11.0</td>\n",
       "    </tr>\n",
       "  </tbody>\n",
       "</table>\n",
       "<p>1769 rows × 4 columns</p>\n",
       "</div>"
      ],
      "text/plain": [
       "     STATION_DEPART STATION_ARRV  DAYOFWEEK  NUM_PASSENGER\n",
       "0                서울           대전          0          106.0\n",
       "1                서울           대전          1          113.0\n",
       "2                서울           대전          2          146.0\n",
       "3                서울           대전          3           84.0\n",
       "4                서울           대전          4          105.0\n",
       "...             ...          ...        ...            ...\n",
       "1764             울산           부산          4           10.0\n",
       "1765             울산           부산          5            6.0\n",
       "1766             울산           부산          6           21.0\n",
       "1767             울산           부산          0           12.0\n",
       "1768             울산           부산          1           11.0\n",
       "\n",
       "[1769 rows x 4 columns]"
      ]
     },
     "execution_count": 121,
     "metadata": {},
     "output_type": "execute_result"
    }
   ],
   "source": [
    "train_group_data"
   ]
  },
  {
   "cell_type": "markdown",
   "metadata": {
    "id": "lSG9R_Bo0HWv",
    "slideshow": {
     "slide_type": "slide"
    }
   },
   "source": [
    "# groupby 함수 사용"
   ]
  },
  {
   "cell_type": "code",
   "execution_count": 122,
   "metadata": {
    "executionInfo": {
     "elapsed": 1,
     "status": "ok",
     "timestamp": 1694574052725,
     "user": {
      "displayName": "­김당찬 / 학생 / 통계학과",
      "userId": "10984925773876423229"
     },
     "user_tz": -540
    },
    "id": "6pQp16OWslX1",
    "slideshow": {
     "slide_type": "subslide"
    }
   },
   "outputs": [],
   "source": [
    "summary_data = train_group_data.groupby(['STATION_DEPART','STATION_ARRV','DAYOFWEEK']).mean(numeric_only=True)"
   ]
  },
  {
   "cell_type": "code",
   "execution_count": 123,
   "metadata": {
    "colab": {
     "base_uri": "https://localhost:8080/",
     "height": 455
    },
    "executionInfo": {
     "elapsed": 2,
     "status": "ok",
     "timestamp": 1694574053162,
     "user": {
      "displayName": "­김당찬 / 학생 / 통계학과",
      "userId": "10984925773876423229"
     },
     "user_tz": -540
    },
    "id": "ijgHGI0vez2k",
    "outputId": "0792b3c6-5bf0-40c1-dad8-bb3d69d068d0",
    "slideshow": {
     "slide_type": "subslide"
    }
   },
   "outputs": [
    {
     "data": {
      "text/html": [
       "<div>\n",
       "<style scoped>\n",
       "    .dataframe tbody tr th:only-of-type {\n",
       "        vertical-align: middle;\n",
       "    }\n",
       "\n",
       "    .dataframe tbody tr th {\n",
       "        vertical-align: top;\n",
       "    }\n",
       "\n",
       "    .dataframe thead th {\n",
       "        text-align: right;\n",
       "    }\n",
       "</style>\n",
       "<table border=\"1\" class=\"dataframe\">\n",
       "  <thead>\n",
       "    <tr style=\"text-align: right;\">\n",
       "      <th></th>\n",
       "      <th></th>\n",
       "      <th></th>\n",
       "      <th>NUM_PASSENGER</th>\n",
       "    </tr>\n",
       "    <tr>\n",
       "      <th>STATION_DEPART</th>\n",
       "      <th>STATION_ARRV</th>\n",
       "      <th>DAYOFWEEK</th>\n",
       "      <th></th>\n",
       "    </tr>\n",
       "  </thead>\n",
       "  <tbody>\n",
       "    <tr>\n",
       "      <th rowspan=\"5\" valign=\"top\">광명</th>\n",
       "      <th rowspan=\"5\" valign=\"top\">대전</th>\n",
       "      <th>0</th>\n",
       "      <td>16.300</td>\n",
       "    </tr>\n",
       "    <tr>\n",
       "      <th>1</th>\n",
       "      <td>15.200</td>\n",
       "    </tr>\n",
       "    <tr>\n",
       "      <th>2</th>\n",
       "      <td>20.750</td>\n",
       "    </tr>\n",
       "    <tr>\n",
       "      <th>3</th>\n",
       "      <td>21.125</td>\n",
       "    </tr>\n",
       "    <tr>\n",
       "      <th>4</th>\n",
       "      <td>18.125</td>\n",
       "    </tr>\n",
       "    <tr>\n",
       "      <th>...</th>\n",
       "      <th>...</th>\n",
       "      <th>...</th>\n",
       "      <td>...</td>\n",
       "    </tr>\n",
       "    <tr>\n",
       "      <th rowspan=\"5\" valign=\"top\">행신</th>\n",
       "      <th rowspan=\"5\" valign=\"top\">서울</th>\n",
       "      <th>2</th>\n",
       "      <td>12.750</td>\n",
       "    </tr>\n",
       "    <tr>\n",
       "      <th>3</th>\n",
       "      <td>10.000</td>\n",
       "    </tr>\n",
       "    <tr>\n",
       "      <th>4</th>\n",
       "      <td>8.250</td>\n",
       "    </tr>\n",
       "    <tr>\n",
       "      <th>5</th>\n",
       "      <td>7.500</td>\n",
       "    </tr>\n",
       "    <tr>\n",
       "      <th>6</th>\n",
       "      <td>5.000</td>\n",
       "    </tr>\n",
       "  </tbody>\n",
       "</table>\n",
       "<p>224 rows × 1 columns</p>\n",
       "</div>"
      ],
      "text/plain": [
       "                                       NUM_PASSENGER\n",
       "STATION_DEPART STATION_ARRV DAYOFWEEK               \n",
       "광명             대전           0                 16.300\n",
       "                            1                 15.200\n",
       "                            2                 20.750\n",
       "                            3                 21.125\n",
       "                            4                 18.125\n",
       "...                                              ...\n",
       "행신             서울           2                 12.750\n",
       "                            3                 10.000\n",
       "                            4                  8.250\n",
       "                            5                  7.500\n",
       "                            6                  5.000\n",
       "\n",
       "[224 rows x 1 columns]"
      ]
     },
     "execution_count": 123,
     "metadata": {},
     "output_type": "execute_result"
    }
   ],
   "source": [
    "summary_data"
   ]
  },
  {
   "cell_type": "code",
   "execution_count": 125,
   "metadata": {
    "colab": {
     "base_uri": "https://localhost:8080/",
     "height": 455
    },
    "executionInfo": {
     "elapsed": 2,
     "status": "ok",
     "timestamp": 1694574053732,
     "user": {
      "displayName": "­김당찬 / 학생 / 통계학과",
      "userId": "10984925773876423229"
     },
     "user_tz": -540
    },
    "id": "Ly-N5hlbeVRp",
    "outputId": "f793a304-f3ea-4327-9c2c-e347a3654676",
    "slideshow": {
     "slide_type": "subslide"
    }
   },
   "outputs": [],
   "source": [
    "# groupby에 적용가능한 함수\n",
    "# count, sum, mean, median, min, max, std, var ...\n",
    "group = train_group_data.groupby(['STATION_DEPART','STATION_ARRV','DAYOFWEEK']).sum(numeric_only=True)"
   ]
  },
  {
   "cell_type": "code",
   "execution_count": 126,
   "metadata": {
    "executionInfo": {
     "elapsed": 2,
     "status": "ok",
     "timestamp": 1694574054597,
     "user": {
      "displayName": "­김당찬 / 학생 / 통계학과",
      "userId": "10984925773876423229"
     },
     "user_tz": -540
    },
    "id": "tC_TIT9Ee2rg",
    "slideshow": {
     "slide_type": "subslide"
    }
   },
   "outputs": [],
   "source": [
    "summary_data.reset_index(inplace=True) # inplace=True는 기존 변수를 바꿈, 아닐 경우는 일시적으로 정렬된 것만 보여줌"
   ]
  },
  {
   "cell_type": "code",
   "execution_count": 128,
   "metadata": {
    "colab": {
     "base_uri": "https://localhost:8080/",
     "height": 423
    },
    "executionInfo": {
     "elapsed": 2,
     "status": "ok",
     "timestamp": 1694574060959,
     "user": {
      "displayName": "­김당찬 / 학생 / 통계학과",
      "userId": "10984925773876423229"
     },
     "user_tz": -540
    },
    "id": "Yg843TYPfAIx",
    "outputId": "040c7acc-7e2a-43fc-a8fc-1f81277ae326",
    "scrolled": false,
    "slideshow": {
     "slide_type": "subslide"
    }
   },
   "outputs": [
    {
     "data": {
      "text/plain": [
       "0      0\n",
       "1      1\n",
       "2      2\n",
       "3      3\n",
       "4      4\n",
       "      ..\n",
       "219    2\n",
       "220    3\n",
       "221    4\n",
       "222    5\n",
       "223    6\n",
       "Name: DAYOFWEEK, Length: 224, dtype: int32"
      ]
     },
     "execution_count": 128,
     "metadata": {},
     "output_type": "execute_result"
    }
   ],
   "source": [
    "summary_data['DAYOFWEEK']"
   ]
  },
  {
   "cell_type": "code",
   "execution_count": 129,
   "metadata": {
    "executionInfo": {
     "elapsed": 1,
     "status": "ok",
     "timestamp": 1694574062417,
     "user": {
      "displayName": "­김당찬 / 학생 / 통계학과",
      "userId": "10984925773876423229"
     },
     "user_tz": -540
    },
    "id": "nsCrO5T6fBUx",
    "slideshow": {
     "slide_type": "subslide"
    }
   },
   "outputs": [],
   "source": [
    "seoul_to_busan = summary_data[ ( summary_data['STATION_DEPART'] == '서울' ) & (\n",
    "summary_data['STATION_ARRV'] == '부산' )]"
   ]
  },
  {
   "cell_type": "code",
   "execution_count": 132,
   "metadata": {
    "colab": {
     "base_uri": "https://localhost:8080/",
     "height": 448
    },
    "executionInfo": {
     "elapsed": 627,
     "status": "ok",
     "timestamp": 1694574204443,
     "user": {
      "displayName": "­김당찬 / 학생 / 통계학과",
      "userId": "10984925773876423229"
     },
     "user_tz": -540
    },
    "id": "IJ0fJaq7fI7Y",
    "outputId": "99b2409c-3384-4fde-d71e-959d8c5b6f4d",
    "slideshow": {
     "slide_type": "subslide"
    }
   },
   "outputs": [
    {
     "data": {
      "text/plain": [
       "<Axes: ylabel='DAYOFWEEK'>"
      ]
     },
     "execution_count": 132,
     "metadata": {},
     "output_type": "execute_result"
    },
    {
     "data": {
      "image/png": "[encoded data removed]",
      "text/plain": [
       "<Figure size 640x480 with 1 Axes>"
      ]
     },
     "metadata": {},
     "output_type": "display_data"
    }
   ],
   "source": [
    "seoul_to_busan.plot(x='DAYOFWEEK', y=\"NUM_PASSENGER\", kind='barh')"
   ]
  },
  {
   "cell_type": "markdown",
   "metadata": {
    "id": "5tXQUTSZslX2",
    "slideshow": {
     "slide_type": "slide"
    }
   },
   "source": [
    "# 구글 드라이브 마운트"
   ]
  },
  {
   "cell_type": "code",
   "execution_count": null,
   "metadata": {
    "id": "CXoGINvSwtIX",
    "slideshow": {
     "slide_type": "subslide"
    }
   },
   "outputs": [],
   "source": [
    "from google.colab import drive\n",
    "drive.mount('/content/drive')"
   ]
  },
  {
   "cell_type": "code",
   "execution_count": null,
   "metadata": {
    "id": "-0IyY9XPwkLe",
    "slideshow": {
     "slide_type": "subslide"
    }
   },
   "outputs": [],
   "source": [
    "# %는 매직 명령어라고 부르며, 셀 내부에서 특별한 기능을 수행\n",
    "# %cd는 현재 작업 디렉토리를 변경하는 명령어 (Unix 기반의 명령어)\n",
    "%cd 'drive/MyDrive'"
   ]
  },
  {
   "cell_type": "code",
   "execution_count": null,
   "metadata": {
    "id": "ZSI2Ife9xAp4",
    "slideshow": {
     "slide_type": "subslide"
    }
   },
   "outputs": [],
   "source": [
    "import os\n",
    "\n",
    "os.listdir()"
   ]
  },
  {
   "cell_type": "markdown",
   "metadata": {
    "id": "BezkYUXTslX2",
    "slideshow": {
     "slide_type": "slide"
    }
   },
   "source": [
    "## 인코딩\n",
    "\n",
    "- 사용되는 인코딩 : `utf-8`, `cp949`, `euc-kr`\n",
    "- 한국어 파일을 불러올때는 `encoding ='cp949'` 를 적는다.\n",
    "- ex. `pd.read_csv('파일경로', encoding='cp949')`"
   ]
  },
  {
   "cell_type": "markdown",
   "metadata": {
    "id": "_DF51zA-eVRq",
    "slideshow": {
     "slide_type": "slide"
    }
   },
   "source": [
    "# 텍스트 데이터\n",
    "- 문자열 자료형의 자세한 내용은 다음 강의에서 다루도록 하겠습니다."
   ]
  },
  {
   "cell_type": "code",
   "execution_count": 133,
   "metadata": {
    "id": "SQcNVGW3eVRq",
    "slideshow": {
     "slide_type": "subslide"
    }
   },
   "outputs": [],
   "source": [
    "import base64\n",
    "import requests\n",
    "url_data =\"http://raw.githubusercontent.com/ddangchani/Datascience23fall_data/main/data/little-prince.txt\"\n",
    "little_prince = requests.get(url_data)\n",
    "little_prince = little_prince.text "
   ]
  },
  {
   "cell_type": "code",
   "execution_count": 134,
   "metadata": {
    "id": "nRVWK_zVeVRq",
    "outputId": "51d01df2-e92f-449e-b3db-ecccf44801ff",
    "scrolled": true,
    "slideshow": {
     "slide_type": "subslide"
    }
   },
   "outputs": [
    {
     "data": {
      "text/plain": [
       "'\\r\\n   살아오며 다양한 사람들을 만났어, 대갠 심각한 어른들이었지. 난 그들 사이에 살아야 했으니깐. 그럼 난 그들에게 내 그림을 보여주었단다. 내 의견을 개진하지 않고 말이야.\\r\\n   명석해 보이는 이들을 만날 때면 난 아끼며 보관해오던 내 첫 그림을 그분들께 보여주었지. 그들이 정말로 이해할까 알 고 싶었거든. 하지만 대답은 항상 이랬어. 모자군요. 그럼 난 보아 뱀 얘긴 꺼내지도 않았지 물론 숲 얘기나 별 얘기도 하지 않았어. 난 그들에게 내 자신을 맞추며, 기껏 \\'브리지\\'(카드 게임의 일종), 골프, 정치 그리고 술에 관한 얘기만 했을 뿐이 야. 그럼 어른들은 죄다 날 합리적인 사람이라 말하며 기뻐들 했지.\\r\\n   \\r\\n   \\r\\n   \\r\\n   \\r\\n   어린 왕자 \\r\\n   2장\\r\\n   그래서 난 혼자 살게 되었지, 얘길 나눌 누군가도 없이, 6년 전 사하라 사막에서 새벽을 맞을 때까지 말이야. 비행기 엔진 에 뭔가 고장이 있었나 봐. 정비공도 일행도 없었기에 처음엔 고쳐보려 혼자 애를 써보았지. 게다가 마실 물도 1주일 분 밖에 없어서 이건 완전 죽고 사는 문제였어.\\r\\n   거주지로부터 천 킬로미터는 멀리 떨어진 모래에서 첫날 밤을 맞았지. 마치 바다 한 가운데 외로운 뗏목 위에 홀로 던져 진 그런 고적한 기분이었어요. 그런데 새벽에 뭔가 살짝 익살맞은 목소리가 나를 깨우는 거 같아 깜짝 놀랐지. 이렇게 말하 더라.\\r\\n   \"양 한 마리 그려주세요!\" \"응!\"\\r\\n   \"양 그려 달라고요...\"\\r\\n   순간 번개에 맞은 양 난 벌떡 일어나고 말았지. 내 눈을 비비며 또 보았다네. 정말이지 아주 괴상한 어린 아이가 진지한 표정으로 나를 보고 있지 뭐야. 난 후에 그 애의 초상화를 그릴 수 있었는데 바로 이거야.\\r\\n   \\r\\n   \\r\\n   \\r\\n   어린 왕자\\r\\n   \\r\\n   물론 내 그림은 실제 모습보단 덜해. 그렇다고 내 실수는 아니라고. 난 알다시피 여섯 살 때 어른들에 의해 화가의 꿈을 접었잖니. 내가 그려본 거라곤 닫힌 보아 뱀과 열린 보아 뱀이 다이잖니'"
      ]
     },
     "execution_count": 134,
     "metadata": {},
     "output_type": "execute_result"
    }
   ],
   "source": [
    "little_prince[2000:3000]"
   ]
  },
  {
   "cell_type": "markdown",
   "metadata": {
    "id": "vJMcWU-LeVRq",
    "slideshow": {
     "slide_type": "slide"
    }
   },
   "source": [
    "## 어린 왕자라는 단어가 총 몇번 나오는지 확인"
   ]
  },
  {
   "cell_type": "code",
   "execution_count": 135,
   "metadata": {
    "id": "C5FdwFg1eVRq",
    "slideshow": {
     "slide_type": "subslide"
    }
   },
   "outputs": [],
   "source": [
    "import numpy as np\n",
    "import pandas as pd"
   ]
  },
  {
   "cell_type": "code",
   "execution_count": 136,
   "metadata": {
    "id": "s7040XwDeVRq",
    "outputId": "0ca2145c-e577-40ac-befe-67c40cda48fd",
    "slideshow": {
     "slide_type": "subslide"
    }
   },
   "outputs": [
    {
     "data": {
      "text/plain": [
       "array(285)"
      ]
     },
     "execution_count": 136,
     "metadata": {},
     "output_type": "execute_result"
    }
   ],
   "source": [
    "# little_prince.count('어린 왕자')\n",
    "np.char.count(little_prince, '어린 왕자')"
   ]
  },
  {
   "cell_type": "markdown",
   "metadata": {
    "id": "2HJS_MMKeVRr",
    "slideshow": {
     "slide_type": "slide"
    }
   },
   "source": [
    "## 장 구분"
   ]
  },
  {
   "cell_type": "code",
   "execution_count": 137,
   "metadata": {
    "id": "LcWlACWSeVRr",
    "slideshow": {
     "slide_type": "subslide"
    }
   },
   "outputs": [],
   "source": [
    "little_prince = little_prince.replace('어린 왕자 \\r\\n','어린 왕자\\r\\n')\n",
    "little_prince_chapters = little_prince.split('어린 왕자\\r\\n')"
   ]
  },
  {
   "cell_type": "code",
   "execution_count": 138,
   "metadata": {
    "id": "2M59pT3-eVRs",
    "slideshow": {
     "slide_type": "subslide"
    }
   },
   "outputs": [],
   "source": [
    "final = pd.DataFrame({'chapters': little_prince_chapters})"
   ]
  },
  {
   "cell_type": "code",
   "execution_count": null,
   "metadata": {
    "id": "VVhJ1yh9eVRs",
    "outputId": "4e21a6c7-3a11-4b12-c4a0-0fe6c35a7a7f",
    "slideshow": {
     "slide_type": "subslide"
    }
   },
   "outputs": [
    {
     "data": {
      "text/html": [
       "<div>\n",
       "<style scoped>\n",
       "    .dataframe tbody tr th:only-of-type {\n",
       "        vertical-align: middle;\n",
       "    }\n",
       "\n",
       "    .dataframe tbody tr th {\n",
       "        vertical-align: top;\n",
       "    }\n",
       "\n",
       "    .dataframe thead th {\n",
       "        text-align: right;\n",
       "    }\n",
       "</style>\n",
       "<table border=\"1\" class=\"dataframe\">\n",
       "  <thead>\n",
       "    <tr style=\"text-align: right;\">\n",
       "      <th></th>\n",
       "      <th>chapters</th>\n",
       "    </tr>\n",
       "  </thead>\n",
       "  <tbody>\n",
       "    <tr>\n",
       "      <th>0</th>\n",
       "      <td>\\r\\n</td>\n",
       "    </tr>\n",
       "    <tr>\n",
       "      <th>1</th>\n",
       "      <td>영어동화 (우리말 해석)\\r\\n   생텍쥐페리\\r\\n   \\r\\n   \\r\\n...</td>\n",
       "    </tr>\n",
       "    <tr>\n",
       "      <th>2</th>\n",
       "      <td>1장\\r\\n   내가 여섯 살 때 한 번은 원시림을 다룬 『생명체 이야기』라는...</td>\n",
       "    </tr>\n",
       "    <tr>\n",
       "      <th>3</th>\n",
       "      <td>2장\\r\\n   그래서 난 혼자 살게 되었지, 얘길 나눌 누군가도 없이, 6년...</td>\n",
       "    </tr>\n",
       "    <tr>\n",
       "      <th>4</th>\n",
       "      <td>\\r\\n   물론 내 그림은 실제 모습보단 덜해. 그렇다고 내 실수는 아니라고...</td>\n",
       "    </tr>\n",
       "    <tr>\n",
       "      <th>5</th>\n",
       "      <td>3장\\r\\n   벼랑\\r\\n   그 애가 어디서 왔는지 아는 데까지 긴 시간이...</td>\n",
       "    </tr>\n",
       "    <tr>\n",
       "      <th>6</th>\n",
       "      <td>4장\\r\\n   \\r\\n   난 곧 아주 중요한 두 번째 사실도 알게 됐는데,...</td>\n",
       "    </tr>\n",
       "    <tr>\n",
       "      <th>7</th>\n",
       "      <td>5장\\r\\n   \\r\\n   난 매일 그 별과 떠나온 이유와 여행에 대해 알게...</td>\n",
       "    </tr>\n",
       "    <tr>\n",
       "      <th>8</th>\n",
       "      <td>6장\\r\\n   \\r\\n   아! 어린 왕자여, 난 이제야 알겠어, 조금씩, ...</td>\n",
       "    </tr>\n",
       "    <tr>\n",
       "      <th>9</th>\n",
       "      <td>7장\\r\\n   \\r\\n   다섯 째 날에도, 항상 양 덕분에, 어린 왕자의 ...</td>\n",
       "    </tr>\n",
       "    <tr>\n",
       "      <th>10</th>\n",
       "      <td>8장\\r\\n   \\r\\n   나는 곧 이 꽃에 대해 알게 되었다. 어린 왕자의...</td>\n",
       "    </tr>\n",
       "    <tr>\n",
       "      <th>11</th>\n",
       "      <td>9장\\r\\n   내 생각에, 어린 왕자는, 철새들이 이동할 때 함께 그 별 을...</td>\n",
       "    </tr>\n",
       "    <tr>\n",
       "      <th>12</th>\n",
       "      <td>10장\\r\\n   어린 왕자의 별 가까이에 소행성 325호, 326호, 327...</td>\n",
       "    </tr>\n",
       "    <tr>\n",
       "      <th>13</th>\n",
       "      <td>11장\\r\\n   \\r\\n   두 번째 별엔 허영심쟁이가 살고 있었어요.\\r\\...</td>\n",
       "    </tr>\n",
       "    <tr>\n",
       "      <th>14</th>\n",
       "      <td>12장\\r\\n   \\r\\n   술꾼\\r\\n   다음으로 간 별엔 술꾼이 살고 ...</td>\n",
       "    </tr>\n",
       "    <tr>\n",
       "      <th>15</th>\n",
       "      <td>13장\\r\\n   \\r\\n   네 번째 별엔 장사꾼이 살고 있었다. 어린 왕자...</td>\n",
       "    </tr>\n",
       "    <tr>\n",
       "      <th>16</th>\n",
       "      <td>14장\\r\\n   \\r\\n   다섯 번째 별은 좀 이상했다. 가장 작았기 때문...</td>\n",
       "    </tr>\n",
       "    <tr>\n",
       "      <th>17</th>\n",
       "      <td>15장\\r\\n   \\r\\n   여섯 번째 별은 열 배는 큰 별이었다. 거기엔 ...</td>\n",
       "    </tr>\n",
       "    <tr>\n",
       "      <th>18</th>\n",
       "      <td>16장\\r\\n   \\r\\n   그리하여 일곱 번째로 들른 별은 지구였다.\\r\\...</td>\n",
       "    </tr>\n",
       "    <tr>\n",
       "      <th>19</th>\n",
       "      <td>17장\\r\\n   \\r\\n   뭔 말을 거창하게 하려다 보면, 허풍이 좀 들어...</td>\n",
       "    </tr>\n",
       "    <tr>\n",
       "      <th>20</th>\n",
       "      <td>18장\\r\\n   \\r\\n   어린 왕자는 사막을 거닐어보았지만 마주친 거라 ...</td>\n",
       "    </tr>\n",
       "    <tr>\n",
       "      <th>21</th>\n",
       "      <td>19장\\r\\n   \\r\\n   어린 왕자는 높은 산에 올랐다. 어린 왕자의 별...</td>\n",
       "    </tr>\n",
       "    <tr>\n",
       "      <th>22</th>\n",
       "      <td>20장\\r\\n   \\r\\n   하지만 어린 왕자는 모랫길과 바위와 눈 뿐인 곳을 한...</td>\n",
       "    </tr>\n",
       "    <tr>\n",
       "      <th>23</th>\n",
       "      <td>21장\\r\\n   \\r\\n   그런데 그때 여우가 나타났다.\\r\\n   \"안녕...</td>\n",
       "    </tr>\n",
       "    <tr>\n",
       "      <th>24</th>\n",
       "      <td>\"넌 누구니?\"라며 어린 왕자가 말했다. \"근데 넌 참 귀엽구나...\" \\r\\...</td>\n",
       "    </tr>\n",
       "    <tr>\n",
       "      <th>25</th>\n",
       "      <td>22장\\r\\n   \\r\\n   \"안녕하세요.\"라며 어린 왕자가 말했다. \"안녕...</td>\n",
       "    </tr>\n",
       "    <tr>\n",
       "      <th>26</th>\n",
       "      <td>23장\\r\\n   \\r\\n   \"안녕하세요.\"라며 어린 왕자가 말했다. \"안녕...</td>\n",
       "    </tr>\n",
       "    <tr>\n",
       "      <th>27</th>\n",
       "      <td>24장\\r\\n   \\r\\n   비행기 고장으로 사막에 떨어진지도 이제 여덟째 ...</td>\n",
       "    </tr>\n",
       "    <tr>\n",
       "      <th>28</th>\n",
       "      <td>25장\\r\\n   \\r\\n   \"사람들은,\"라며 어린 왕자가 말했다. \"서둘러...</td>\n",
       "    </tr>\n",
       "    <tr>\n",
       "      <th>29</th>\n",
       "      <td>26장\\r\\n   \\r\\n   그 우물 가 옆엔 무너진 돌담 하나가 있었다. ...</td>\n",
       "    </tr>\n",
       "    <tr>\n",
       "      <th>30</th>\n",
       "      <td>27장\\r\\n   \\r\\n   물론 지금은 6년이 지난 얘기다... 난 아직 ...</td>\n",
       "    </tr>\n",
       "  </tbody>\n",
       "</table>\n",
       "</div>"
      ],
      "text/plain": [
       "                                             chapters\n",
       "0                                             \\r\\n   \n",
       "1      영어동화 (우리말 해석)\\r\\n   생텍쥐페리\\r\\n   \\r\\n   \\r\\n...\n",
       "2      1장\\r\\n   내가 여섯 살 때 한 번은 원시림을 다룬 『생명체 이야기』라는...\n",
       "3      2장\\r\\n   그래서 난 혼자 살게 되었지, 얘길 나눌 누군가도 없이, 6년...\n",
       "4      \\r\\n   물론 내 그림은 실제 모습보단 덜해. 그렇다고 내 실수는 아니라고...\n",
       "5      3장\\r\\n   벼랑\\r\\n   그 애가 어디서 왔는지 아는 데까지 긴 시간이...\n",
       "6      4장\\r\\n   \\r\\n   난 곧 아주 중요한 두 번째 사실도 알게 됐는데,...\n",
       "7      5장\\r\\n   \\r\\n   난 매일 그 별과 떠나온 이유와 여행에 대해 알게...\n",
       "8      6장\\r\\n   \\r\\n   아! 어린 왕자여, 난 이제야 알겠어, 조금씩, ...\n",
       "9      7장\\r\\n   \\r\\n   다섯 째 날에도, 항상 양 덕분에, 어린 왕자의 ...\n",
       "10     8장\\r\\n   \\r\\n   나는 곧 이 꽃에 대해 알게 되었다. 어린 왕자의...\n",
       "11     9장\\r\\n   내 생각에, 어린 왕자는, 철새들이 이동할 때 함께 그 별 을...\n",
       "12     10장\\r\\n   어린 왕자의 별 가까이에 소행성 325호, 326호, 327...\n",
       "13     11장\\r\\n   \\r\\n   두 번째 별엔 허영심쟁이가 살고 있었어요.\\r\\...\n",
       "14     12장\\r\\n   \\r\\n   술꾼\\r\\n   다음으로 간 별엔 술꾼이 살고 ...\n",
       "15     13장\\r\\n   \\r\\n   네 번째 별엔 장사꾼이 살고 있었다. 어린 왕자...\n",
       "16     14장\\r\\n   \\r\\n   다섯 번째 별은 좀 이상했다. 가장 작았기 때문...\n",
       "17     15장\\r\\n   \\r\\n   여섯 번째 별은 열 배는 큰 별이었다. 거기엔 ...\n",
       "18     16장\\r\\n   \\r\\n   그리하여 일곱 번째로 들른 별은 지구였다.\\r\\...\n",
       "19     17장\\r\\n   \\r\\n   뭔 말을 거창하게 하려다 보면, 허풍이 좀 들어...\n",
       "20     18장\\r\\n   \\r\\n   어린 왕자는 사막을 거닐어보았지만 마주친 거라 ...\n",
       "21     19장\\r\\n   \\r\\n   어린 왕자는 높은 산에 올랐다. 어린 왕자의 별...\n",
       "22  20장\\r\\n   \\r\\n   하지만 어린 왕자는 모랫길과 바위와 눈 뿐인 곳을 한...\n",
       "23     21장\\r\\n   \\r\\n   그런데 그때 여우가 나타났다.\\r\\n   \"안녕...\n",
       "24     \"넌 누구니?\"라며 어린 왕자가 말했다. \"근데 넌 참 귀엽구나...\" \\r\\...\n",
       "25     22장\\r\\n   \\r\\n   \"안녕하세요.\"라며 어린 왕자가 말했다. \"안녕...\n",
       "26     23장\\r\\n   \\r\\n   \"안녕하세요.\"라며 어린 왕자가 말했다. \"안녕...\n",
       "27     24장\\r\\n   \\r\\n   비행기 고장으로 사막에 떨어진지도 이제 여덟째 ...\n",
       "28     25장\\r\\n   \\r\\n   \"사람들은,\"라며 어린 왕자가 말했다. \"서둘러...\n",
       "29     26장\\r\\n   \\r\\n   그 우물 가 옆엔 무너진 돌담 하나가 있었다. ...\n",
       "30     27장\\r\\n   \\r\\n   물론 지금은 6년이 지난 얘기다... 난 아직 ..."
      ]
     },
     "execution_count": 119,
     "metadata": {},
     "output_type": "execute_result"
    }
   ],
   "source": [
    "final"
   ]
  },
  {
   "cell_type": "markdown",
   "metadata": {
    "id": "7D6b4vTOeVRs",
    "slideshow": {
     "slide_type": "slide"
    }
   },
   "source": [
    "## 각 장 별로 어린 왕자 라는 단어가 몇 번 나오는지 세기"
   ]
  },
  {
   "cell_type": "code",
   "execution_count": 139,
   "metadata": {
    "id": "NrL30wzieVRs",
    "outputId": "8fe318d7-a9ed-4998-9f02-5822fb48efd8",
    "slideshow": {
     "slide_type": "subslide"
    }
   },
   "outputs": [
    {
     "name": "stderr",
     "output_type": "stream",
     "text": [
      "/var/folders/6r/ndnspf4n6n7_m8rb9bs7qdvr0000gp/T/ipykernel_38065/1626556038.py:1: FutureWarning: DataFrame.applymap has been deprecated. Use DataFrame.map instead.\n",
      "  counts = final.applymap(lambda x: np.char.count(x, \"어린 왕자\"))\n"
     ]
    },
    {
     "data": {
      "text/html": [
       "<div>\n",
       "<style scoped>\n",
       "    .dataframe tbody tr th:only-of-type {\n",
       "        vertical-align: middle;\n",
       "    }\n",
       "\n",
       "    .dataframe tbody tr th {\n",
       "        vertical-align: top;\n",
       "    }\n",
       "\n",
       "    .dataframe thead th {\n",
       "        text-align: right;\n",
       "    }\n",
       "</style>\n",
       "<table border=\"1\" class=\"dataframe\">\n",
       "  <thead>\n",
       "    <tr style=\"text-align: right;\">\n",
       "      <th></th>\n",
       "      <th>chapters</th>\n",
       "    </tr>\n",
       "  </thead>\n",
       "  <tbody>\n",
       "    <tr>\n",
       "      <th>0</th>\n",
       "      <td>0</td>\n",
       "    </tr>\n",
       "    <tr>\n",
       "      <th>1</th>\n",
       "      <td>3</td>\n",
       "    </tr>\n",
       "    <tr>\n",
       "      <th>2</th>\n",
       "      <td>0</td>\n",
       "    </tr>\n",
       "    <tr>\n",
       "      <th>3</th>\n",
       "      <td>0</td>\n",
       "    </tr>\n",
       "    <tr>\n",
       "      <th>4</th>\n",
       "      <td>1</td>\n",
       "    </tr>\n",
       "    <tr>\n",
       "      <th>5</th>\n",
       "      <td>4</td>\n",
       "    </tr>\n",
       "    <tr>\n",
       "      <th>6</th>\n",
       "      <td>7</td>\n",
       "    </tr>\n",
       "    <tr>\n",
       "      <th>7</th>\n",
       "      <td>10</td>\n",
       "    </tr>\n",
       "    <tr>\n",
       "      <th>8</th>\n",
       "      <td>2</td>\n",
       "    </tr>\n",
       "    <tr>\n",
       "      <th>9</th>\n",
       "      <td>5</td>\n",
       "    </tr>\n",
       "    <tr>\n",
       "      <th>10</th>\n",
       "      <td>14</td>\n",
       "    </tr>\n",
       "    <tr>\n",
       "      <th>11</th>\n",
       "      <td>8</td>\n",
       "    </tr>\n",
       "    <tr>\n",
       "      <th>12</th>\n",
       "      <td>24</td>\n",
       "    </tr>\n",
       "    <tr>\n",
       "      <th>13</th>\n",
       "      <td>10</td>\n",
       "    </tr>\n",
       "    <tr>\n",
       "      <th>14</th>\n",
       "      <td>6</td>\n",
       "    </tr>\n",
       "    <tr>\n",
       "      <th>15</th>\n",
       "      <td>11</td>\n",
       "    </tr>\n",
       "    <tr>\n",
       "      <th>16</th>\n",
       "      <td>12</td>\n",
       "    </tr>\n",
       "    <tr>\n",
       "      <th>17</th>\n",
       "      <td>14</td>\n",
       "    </tr>\n",
       "    <tr>\n",
       "      <th>18</th>\n",
       "      <td>0</td>\n",
       "    </tr>\n",
       "    <tr>\n",
       "      <th>19</th>\n",
       "      <td>13</td>\n",
       "    </tr>\n",
       "    <tr>\n",
       "      <th>20</th>\n",
       "      <td>4</td>\n",
       "    </tr>\n",
       "    <tr>\n",
       "      <th>21</th>\n",
       "      <td>7</td>\n",
       "    </tr>\n",
       "    <tr>\n",
       "      <th>22</th>\n",
       "      <td>8</td>\n",
       "    </tr>\n",
       "    <tr>\n",
       "      <th>23</th>\n",
       "      <td>1</td>\n",
       "    </tr>\n",
       "    <tr>\n",
       "      <th>24</th>\n",
       "      <td>23</td>\n",
       "    </tr>\n",
       "    <tr>\n",
       "      <th>25</th>\n",
       "      <td>6</td>\n",
       "    </tr>\n",
       "    <tr>\n",
       "      <th>26</th>\n",
       "      <td>3</td>\n",
       "    </tr>\n",
       "    <tr>\n",
       "      <th>27</th>\n",
       "      <td>12</td>\n",
       "    </tr>\n",
       "    <tr>\n",
       "      <th>28</th>\n",
       "      <td>15</td>\n",
       "    </tr>\n",
       "    <tr>\n",
       "      <th>29</th>\n",
       "      <td>20</td>\n",
       "    </tr>\n",
       "    <tr>\n",
       "      <th>30</th>\n",
       "      <td>12</td>\n",
       "    </tr>\n",
       "  </tbody>\n",
       "</table>\n",
       "</div>"
      ],
      "text/plain": [
       "    chapters\n",
       "0          0\n",
       "1          3\n",
       "2          0\n",
       "3          0\n",
       "4          1\n",
       "5          4\n",
       "6          7\n",
       "7         10\n",
       "8          2\n",
       "9          5\n",
       "10        14\n",
       "11         8\n",
       "12        24\n",
       "13        10\n",
       "14         6\n",
       "15        11\n",
       "16        12\n",
       "17        14\n",
       "18         0\n",
       "19        13\n",
       "20         4\n",
       "21         7\n",
       "22         8\n",
       "23         1\n",
       "24        23\n",
       "25         6\n",
       "26         3\n",
       "27        12\n",
       "28        15\n",
       "29        20\n",
       "30        12"
      ]
     },
     "execution_count": 139,
     "metadata": {},
     "output_type": "execute_result"
    }
   ],
   "source": [
    "counts = final.applymap(lambda x: np.char.count(x, \"어린 왕자\"))\n",
    "counts"
   ]
  },
  {
   "cell_type": "code",
   "execution_count": 140,
   "metadata": {
    "id": "1fnQd6v6eVRs",
    "outputId": "356d110e-45e9-4a4a-f0c0-651db541fe00",
    "slideshow": {
     "slide_type": "subslide"
    }
   },
   "outputs": [
    {
     "data": {
      "text/plain": [
       "<Axes: >"
      ]
     },
     "execution_count": 140,
     "metadata": {},
     "output_type": "execute_result"
    },
    {
     "data": {
      "image/png": "[encoded data removed]",
      "text/plain": [
       "<Figure size 640x480 with 1 Axes>"
      ]
     },
     "metadata": {},
     "output_type": "display_data"
    }
   ],
   "source": [
    "import matplotlib.pyplot as plt\n",
    "\n",
    "counts.plot()"
   ]
  }
 ],
 "metadata": {
  "celltoolbar": "Slideshow",
  "colab": {
   "provenance": []
  },
  "kernelspec": {
   "display_name": "Python 3 (ipykernel)",
   "language": "python",
   "name": "python3"
  },
  "language_info": {
   "codemirror_mode": {
    "name": "ipython",
    "version": 3
   },
   "file_extension": ".py",
   "mimetype": "text/x-python",
   "name": "python",
   "nbconvert_exporter": "python",
   "pygments_lexer": "ipython3",
   "version": "3.10.12"
  }
 },
 "nbformat": 4,
 "nbformat_minor": 1
}
