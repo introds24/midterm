{
 "cells": [
  {
   "cell_type": "markdown",
   "metadata": {
    "id": "Erq956dRs1HZ"
   },
   "source": [
    "# 3강 연습문제"
   ]
  },
  {
   "cell_type": "markdown",
   "metadata": {
    "id": "Jd-VCKYZs1Hg"
   },
   "source": [
    "- [Kaggle](https://www.kaggle.com/)은 데이터 분석 및 머신러닝을 위한 대표적인 플랫폼 중 하나입니다. Kaggle에서는 다양한 데이터셋을 제공하고, 또 이를 활용한 대회들을 주최하고 있습니다.\n",
    "- 이번 장에서는 Kaggle 데이터셋 중 [Scotch Whisky Reviews](https://www.kaggle.com/datasets/koki25ando/22000-scotch-whisky-reviews)를 사용해 데이터프레임과 자료형을 연습해보겠습니다.  \n",
    "- 이 데이터셋은 스카치 위스키의 이름, 가격, 평점, 리뷰 등을 담고 있습니다."
   ]
  },
  {
   "cell_type": "markdown",
   "metadata": {
    "id": "to9YQZLos1Hh"
   },
   "source": [
    "## 데이터 불러오기\n",
    "- 아래 셀을 실행시켜 데이터프레임을 불러오고 구조를 확인하세요."
   ]
  },
  {
   "cell_type": "code",
   "execution_count": null,
   "metadata": {
    "id": "C4J5JvEms1Hi"
   },
   "outputs": [],
   "source": [
    "import pandas as pd\n",
    "import numpy as np\n",
    "import matplotlib.pyplot as plt\n",
    "\n",
    "df = pd.read_csv('data/scotch_review.csv')\n",
    "df.head(3)"
   ]
  },
  {
   "cell_type": "markdown",
   "metadata": {
    "id": "b4twuhHRs1Hk"
   },
   "source": [
    "## 문제 1\n",
    "\n",
    "`df` 에는 각 위스키의 가격을 담은 `price` 열이 있습니다. 이는 달러로 표기되어 있는데, 이를 원화로 바꿔 `price_krw` 열에 저장하세요. 단, `price_krw` 열은 **정수형**으로 저장하세요. (1달러 = 1300원으로 계산하세요.)"
   ]
  },
  {
   "cell_type": "code",
   "execution_count": null,
   "metadata": {
    "id": "kPIe4hWXs1Hk"
   },
   "outputs": [],
   "source": []
  },
  {
   "cell_type": "markdown",
   "metadata": {
    "id": "uV-BOYZjs1Hm"
   },
   "source": [
    "## 문제 2\n",
    "\n",
    "다음 리스트 `words`는 위스키의 특징을 설명할 때 주로 사용되는 단어들입니다. `df` 의 `description` 열에는 각 위스키에 대한 설명이 담겨 있습니다. `description` 열에서 `words`에 있는 각 단어가 몇 번 나오는지를 세어, `{단어 이름}_count` 라는 열에 각각 저장하세요.\n",
    "- `smoke` 의 경우, 데이터프레임에 `smoke_count` 이름을 가진 변수를 추가하여 각 위스키의 `description`에 해당 단어가 몇 번 나오는지를 저장하면 됩니다."
   ]
  },
  {
   "cell_type": "code",
   "execution_count": null,
   "metadata": {
    "id": "aEw5C9Afs1Hm"
   },
   "outputs": [],
   "source": [
    "words = ['smoke', 'peat', 'vanilla']"
   ]
  },
  {
   "cell_type": "code",
   "execution_count": null,
   "metadata": {
    "id": "bT-Ono_ItN3H"
   },
   "outputs": [],
   "source": []
  },
  {
   "cell_type": "markdown",
   "metadata": {
    "id": "hiND-zKZs1Hn"
   },
   "source": [
    "## 문제 3\n",
    "\n",
    "철수는 평소 위스키에 대해 관심이 많아, 스카치 위스키에 대한 데이터를 분석하여 좋은 위스키를 구매하고자 합니다. 다음 조건을 바탕으로 가장 적절한 위스키의 **이름과 가격**을 출력하세요. 먼저 제시된 조건일수록 더 **높은 중요도**를 가집니다.\n",
    "\n",
    "1. 스모키한 향이 강한 위스키(`smoke`)\n",
    "2. 가격이 낮을수록 좋습니다.\n",
    "3. 피트향이 강한 것은 선호하지 않습니다(`peat`)\n"
   ]
  },
  {
   "cell_type": "code",
   "execution_count": null,
   "metadata": {
    "id": "UWTiyFQrs1Hn"
   },
   "outputs": [],
   "source": []
  },
  {
   "cell_type": "markdown",
   "metadata": {
    "id": "Xn2Rxvzhs1Hl"
   },
   "source": [
    "## 문제 4\n",
    "\n",
    "`df` 의 `name` 열에는 위스키의 이름과, 도수가 모두 저장된 것을 확인할 수 있는데, 모든 도수 정보는 이름 끝에 위치해 있습니다.  \n",
    "`name` 열에는 위스키의 이름만 남기고, 알코올 도수는 별도의 열 `alcohol` 에 저장하세요. 이때, `alcohol` 열은 **실수형** 자료형을 갖도록 설정하세요."
   ]
  },
  {
   "cell_type": "code",
   "execution_count": null,
   "metadata": {
    "id": "wqxMKfPhs1Hl"
   },
   "outputs": [],
   "source": []
  },
  {
   "cell_type": "markdown",
   "metadata": {},
   "source": [
    "## Extra.\n",
    "위스키의 종류(`category`) 별로 새로운 변수 `ratio` (`review.point/price`)를 정의하여,  이를 시각화해보세요."
   ]
  },
  {
   "cell_type": "code",
   "execution_count": null,
   "metadata": {},
   "outputs": [],
   "source": []
  }
 ],
 "metadata": {
  "colab": {
   "provenance": []
  },
  "kernelspec": {
   "display_name": "Python 3 (ipykernel)",
   "language": "python",
   "name": "python3"
  },
  "language_info": {
   "codemirror_mode": {
    "name": "ipython",
    "version": 3
   },
   "file_extension": ".py",
   "mimetype": "text/x-python",
   "name": "python",
   "nbconvert_exporter": "python",
   "pygments_lexer": "ipython3",
   "version": "3.10.12"
  }
 },
 "nbformat": 4,
 "nbformat_minor": 1
}
